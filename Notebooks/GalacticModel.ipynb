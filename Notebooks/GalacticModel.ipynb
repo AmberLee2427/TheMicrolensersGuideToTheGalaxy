{
 "cells": [
  {
   "cell_type": "markdown",
   "metadata": {},
   "source": [
    "# The Galactic Model"
   ]
  },
  {
   "cell_type": "markdown",
   "metadata": {},
   "source": [
    "[Sagan Summer Workshop, 2017](https://www.youtube.com/watch?v=IoeryRaCQyQ)"
   ]
  }
 ],
 "metadata": {
  "language_info": {
   "name": "python"
  }
 },
 "nbformat": 4,
 "nbformat_minor": 2
}

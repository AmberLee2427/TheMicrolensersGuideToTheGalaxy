{
 "cells": [
  {
   "cell_type": "markdown",
   "metadata": {},
   "source": [
    "# Introduction"
   ]
  },
  {
   "cell_type": "markdown",
   "metadata": {},
   "source": [
    "Hello Microlenser. I am your Guide. \n",
    "\n",
    "I'll keep this introduction brief, incase you are short on time. \n",
    "\n",
    "This notebook is going to take a liesurely stroll through the basic concepts of microlensing. This topic is complex and has a lot of naunce, so I propose we first cover some of the basics and background information, the stuff that doesn't make us want to bang our heads against the wall, and get to know each other a little. But if that doesn't sound like somthing you want to do, I'm not offended; I'm a notebook. \n",
    "\n",
    "Below is a list of the concepts we will cover here. Feel free to skip to whatever point makes you feel good. Or skip this whole notebook by going straight to the Next Steps section."
   ]
  },
  {
   "cell_type": "markdown",
   "metadata": {},
   "source": [
    "## Contents\n",
    "- [What is Microlensing?](#what-is-microlensing)\n",
    "- [What is it used for?](#what-is-it-used-for)\n",
    "  - [Exoplanets](#exoplanets)\n",
    "  - [Brown Dwarf](#brown-dwarf)\n",
    "  - [Black Holes and other Remnants](#black-holes-and-other-remnants)\n",
    "  - [Stellar Population Models](#stellar-population-models)\n",
    "  - [Dark Matter](#dark-matter)\n",
    "- [Microlensing Eras](#microlensing-eras)\n",
    "- [Next Steps](#next-steps)\n",
    "\n"
   ]
  },
  {
   "cell_type": "markdown",
   "metadata": {},
   "source": [
    "Great. Now that they're gone, let's meander a bit. This notebook will make use of a variety of media to keep it accessable and interesting for all users, as seen in the following section. And if you need some motivation, or dopamine throughout, take a look at the [checklist tool](http://localhost:8866/ProgressChecklist.ipynb) where you can tick of sections for this notebook as you complete them.\n",
    "\n",
    "Here is a cozy little youtube video to get us in to the mood for learning about microlensing  (and also check the i'm running correctly)."
   ]
  },
  {
   "cell_type": "markdown",
   "metadata": {},
   "source": [
    "<iframe width=\"560\" height=\"315\" src=\"https://www.youtube.com/embed/VeAVmp9MLH4\" \n",
    "frameborder=\"0\" allowfullscreen></iframe>"
   ]
  },
  {
   "cell_type": "markdown",
   "metadata": {},
   "source": [
    "<a id=\"what-is-microlensing\"></a>\n",
    "### What is Microlensing?\n",
    "\n"
   ]
  },
  {
   "cell_type": "markdown",
   "metadata": {},
   "source": [
    "Microlensing is a specific example of gravitational lensing, where the apparent separation of the lensed images is small enough (i.e., microarcseconds) that they cannot be resolved into individual images with current technology. In photometric observations, this means that the entire strong lensing effect is contained within what appears to be a single star or point-spread function (PSF). The lensing can instead be observed because of the changing magnification and number of source-star images creating variations in brightness. The brightness increase is transient in nature as the lens and source are moving relative to each other. This effect is called photometric microlensing. In bouts of flagrant hubris, unbecoming of a notebook, I will often refer to photometric microlensing as simply microlensing. Astrometric microlensing is a topic left out in the cold for the duration of this notebook. But should you wish to visit it and ensure it feels loved, you can do so [here](AstrometricMicrolensing.ipynb).\n",
    "\n",
    "If none of that sunk in, heres a cozy little youtube video for you to watch."
   ]
  },
  {
   "cell_type": "code",
   "execution_count": 4,
   "metadata": {},
   "outputs": [
    {
     "data": {
      "text/html": [
       "<iframe width=\"560\" height=\"315\" src=\"https://www.youtube.com/embed/VeAVmp9MLH4\" \n",
       "frameborder=\"0\" allowfullscreen></iframe>"
      ],
      "text/plain": [
       "<IPython.core.display.HTML object>"
      ]
     },
     "execution_count": 4,
     "metadata": {},
     "output_type": "execute_result"
    }
   ],
   "source": []
  },
  {
   "cell_type": "markdown",
   "metadata": {},
   "source": [
    "<a id=\"what-is-it-used-for\"></a>\n",
    "### What is it used for?"
   ]
  },
  {
   "cell_type": "markdown",
   "metadata": {},
   "source": [
    "<a id=\"exoplanets\"></a>\n",
    "#### Exoplanets\n"
   ]
  },
  {
   "cell_type": "markdown",
   "metadata": {},
   "source": [
    "<a id=\"brown-dwarf\"></a>\n",
    "#### Brown Dwarf\n"
   ]
  },
  {
   "cell_type": "markdown",
   "metadata": {},
   "source": [
    "<a id=\"black-holes-and-other-remnants\"></a>\n",
    "#### Black Holes and other Remnants\n"
   ]
  },
  {
   "cell_type": "markdown",
   "metadata": {},
   "source": [
    "<a id=\"stellar-population-models\"></a>\n",
    "#### Stellar Population Models\n"
   ]
  },
  {
   "cell_type": "markdown",
   "metadata": {},
   "source": [
    "<a id=\"dark-matter\"></a>\n",
    "#### Dark Matter\n",
    "\n"
   ]
  },
  {
   "cell_type": "markdown",
   "metadata": {},
   "source": [
    "<a id=\"microlensing-eras\"></a>\n",
    "### Microlensing Eras\n"
   ]
  },
  {
   "cell_type": "markdown",
   "metadata": {},
   "source": [
    "<a id=\"next-steps\"></a>\n",
    "### Next Steps"
   ]
  },
  {
   "cell_type": "markdown",
   "metadata": {},
   "source": [
    "Oh hey, you're finished! Well done. \n",
    "\n",
    "\n",
    "\n"
   ]
  },
  {
   "cell_type": "markdown",
   "metadata": {},
   "source": [
    "The next notebook I recommend you try is:\n",
    "\n",
    "- [Microlensing Geometries - Amber and Scott](microlensingGeometries.ipynb)\n",
    "\n",
    "But these would also be good choices:\n",
    "- Higher-Order Effects - Amber and Scott \n",
    "- Data Reduction - Michael\n",
    "- Simulations - Samson\n",
    "- Modelling - Amber\n",
    "- The Galactic Model - Macey\n",
    "- The Nancy Grace Roman Space Telescope - Scott\n",
    "\n",
    "If none of those tickle you fancy, try picking any one of the other notebooks within the `notebook` directory. "
   ]
  },
  {
   "cell_type": "markdown",
   "metadata": {},
   "source": []
  }
 ],
 "metadata": {
  "kernelspec": {
   "display_name": "TheGuide",
   "language": "python",
   "name": "python3"
  },
  "language_info": {
   "codemirror_mode": {
    "name": "ipython",
    "version": 3
   },
   "file_extension": ".py",
   "mimetype": "text/x-python",
   "name": "python",
   "nbconvert_exporter": "python",
   "pygments_lexer": "ipython3",
   "version": "3.8.19"
  }
 },
 "nbformat": 4,
 "nbformat_minor": 2
}

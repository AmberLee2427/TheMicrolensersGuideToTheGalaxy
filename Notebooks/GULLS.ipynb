{
 "cells": [
  {
   "cell_type": "markdown",
   "metadata": {},
   "source": [
    "# GULLS\n",
    "[Penny at al. (2019)](https://iopscience.iop.org/article/10.3847/1538-4365/aafb69/pdf)\n",
    "[Penny et al. (2013)](https://arxiv.org/pdf/1206.5296)\n"
   ]
  },
  {
   "cell_type": "markdown",
   "metadata": {},
   "source": [
    "<img scr=\"./Assets/apjsaafb69f11_hr.jpg\" alt=\"penny2019 figure\" width=\"200\">\n"
   ]
  },
  {
   "cell_type": "markdown",
   "metadata": {},
   "source": []
  }
 ],
 "metadata": {
  "language_info": {
   "name": "python"
  }
 },
 "nbformat": 4,
 "nbformat_minor": 2
}

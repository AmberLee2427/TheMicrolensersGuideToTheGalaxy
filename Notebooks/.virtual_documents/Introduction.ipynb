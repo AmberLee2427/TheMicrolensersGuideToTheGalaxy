# Run this cell before beginning the exercises.
# You may need to select a kernel for the notebook -> TheGuide

# package imports (SHIFT + ENTER to run)
import numpy as np
import matplotlib.pyplot as plt
from matplotlib.patches import Circle, Ellipse
import ipywidgets as widgets
from ipywidgets import interact
from IPython.display import YouTubeVideo
from typing import List, Tuple, Optional, Union















YouTubeVideo('VeAVmp9MLH4', width=560, height=315)














def theta_E(M: float, Dl: float, Ds: float) -> float:  # this is a function definition with a type hint
    """
    Calculate the Einstein radius of a lensing system.

    Parameters
    ----------
    M : float
        Mass of the lens in solar masses
    Dl : float
        Distance to the lens in kpc
    Ds : float
        Distance to the source in kpc
    
    Returns
    ----------
    float
        Einstein radius in arcseconds
    
    Notes
    ----------
    The Einstein radius is calculated as:
    ``` math::
    theta_E = sqrt(4 * G * M / c^2 * (1.0 / Dl - 1.0 / Ds)
    ```
    where
    - G is the gravitational constant
    - M is the mass of the lens
    - c is the speed of light
    - Ds is the distance to the source
    - Dl is the distance to the lens.
    """
    
    # Constants
    kappa = 8.144  # mas/M_Sun
    #kappa_mu = kappa*1000  # muas/M_Sun
    #as2muas = 1.0*1000000.0  # 1 as in muas
    as2mas = 1.0*1000.0  # 1 as in mas

    # Calculate Einstein radius
    pirel_as = (1./(Dl*1000)-1.0/(Ds*1000))
    pirel_mas = pirel_as*as2mas
    #pirel_muas = pirel_as*as2muas
    #print(pirel_as, pirel_muas)
    return np.sqrt(kappa * M * pirel_mas)


























# Interactive Angular Eistein Ring Radius Plot

# If the plot does not present correctly in the notebook, try rerunning the cell.

theta_E_max = 5.5  # Maximum value for theta_E

%matplotlib widget

# Create the figure and axis globally so they are not recreated each time
plt.close(1)  # Close the previous figure if it exists
fig, ax = plt.subplots(num=1, figsize=(6, 6))

# Set plot background and text colors
ax.set_facecolor('black')
ax.spines['bottom'].set_color('white')
ax.spines['top'].set_color('white')
ax.spines['right'].set_color('white')
ax.spines['left'].set_color('white')
ax.tick_params(axis='x', colors='white')
ax.tick_params(axis='y', colors='white')

# Update the plot without making a new figure
fig.canvas.draw()

def update_plot(M: float, Dl: float, Ds: float) -> None:
    """
    Update the plot with the given lensing system parameters.

    Parameters
    ----------
    M : float
        Mass of the lens in solar masses
    Dl : float
        Distance to the lens in kpc
    Ds : float
        Distance to the source in kpc
    """

    global theta_E_max  # Use the global variable for the maximum theta_E value
    theta_E_value = theta_E(M, Dl, Ds)  # mas
    r_E_au = theta_E_value * Dl  # au
    pi_rel = 1.0/(Dl)-1.0/(Ds)  # mas  # CHECK THIS!
    r_E_au = Dl * theta_E_value  # au
    kappa = 8.144  # mas/M_Sun
    pi_E = theta_E_value / (kappa * M)  # mas

    # Update the maximum value if needed
    if theta_E_value > theta_E_max:
        theta_E_max = theta_E_value*1.1  # Increase the maximum value if needed

    # Clear the previous plot content but keep the figure and axis
    ax.cla()  # Clear only the current axes

    fig.patch.set_facecolor('black')  # Set the figure background color to black

    # Plot the circles  # ADD PIE!
    circle = Circle((0, 0), theta_E(M, Dl, Ds), edgecolor='white', facecolor='none', alpha=1.0, 
                    label=r'$\theta_E=$%3.3f mas; $r_E=$%3.3f au; $\pi_{rel}=$%3.3f mas; $\pi_E=$%3.3f mas' %(theta_E_value, r_E_au, pi_rel, pi_E))
    ax.add_patch(circle) 

    # hydrogen fusing mass-radius relation (0.1 < M < 1)
    R = M**0.8 / 0.57
    R_sun2au = 0.00465  # 1 R_sun = 0.00465 au
    rho_L = R * R_sun2au / Dl # kpc, au, -> mas

    # Plot an EXAGGERATED star to represent the lens
    bigger = 10
    star = Circle((0, 0), bigger * rho_L, edgecolor='yellow', facecolor='white') 
    ax.add_patch(star)
    np.save('./Exercises/IntroductionE1.npy', bigger)

    # Set text colot to white
    ax.yaxis.label.set_color('white')
    ax.xaxis.label.set_color('white')
    ax.title.set_color('white')

    # Set labels and title
    ax.set_xlabel(r'$u_1$ (mas)')
    ax.set_ylabel(r'$u_2$ (mas)')
    ax.set_title('Einstein Ring Size')

    # Add a white grid
    ax.grid(True, color='darkgrey', alpha=0.5)

    # Set axis to be equal
    ax.set_aspect('equal', adjustable='box')

    # Set the limits to a fixed range for simplicity
    ax.set_xlim(-theta_E_max, theta_E_max)
    ax.set_ylim(-theta_E_max, theta_E_max)

    # Add a legend
    ax.legend(loc='upper right', facecolor='black', edgecolor='white', labelcolor='white')

    # Update the plot without making a new figure
    fig.canvas.draw()

# Function to update the Ds slider's minimum value based on Dl
def update_Ds_slider(*args):
    Ds_slider.min = Dl_slider.value + 0.1  # Ensure Ds > Dl, but too close will do silly stuff
    if Ds_slider.value <= Ds_slider.min:
        Ds_slider.value = Ds_slider.min

# Function to handle updates when sliders change
def update_sliders(change):
    # Pass the current values of M, Dl, and Ds to the plot update function
    update_plot(M_slider.value, Dl_slider.value, Ds_slider.value)

# Create interactive sliders and text boxes for M, Dl, and Ds
slider_style = {'description_width': '150px'}  # Set the width of the description textboxes
slider_layout = widgets.Layout(width='500px')  # Set the width of the slider bars

# Create interactive sliders and text boxes for M, Dl, and Ds
M_slider = widgets.FloatSlider(value=1.0, min=0.01, max=10.0, step=0.1, 
                               description='Mass (solar masses)',
                               style=slider_style, layout=slider_layout)
M_text = widgets.FloatText(value=1.0)

Dl_slider = widgets.FloatSlider(value=4.0, min=1.0, max=10.0, step=0.1, 
                                description='Lens Distance (kpc)',
                                style=slider_style, layout=slider_layout)
Dl_text = widgets.FloatText(value=4.0)

Ds_slider = widgets.FloatSlider(value=8.0, min=5.1, max=10.0, step=0.1, 
                                description='Source Distance (kpc)',
                                style=slider_style, layout=slider_layout)
Ds_text = widgets.FloatText(value=8.0)

# Link sliders and text boxes
widgets.jslink((M_slider, 'value'), (M_text, 'value'))
widgets.jslink((Dl_slider, 'value'), (Dl_text, 'value'))
widgets.jslink((Ds_slider, 'value'), (Ds_text, 'value'))

# Update the Ds slider's minimum value when Dl changes
Dl_slider.observe(update_Ds_slider, 'value')

# Observe slider value changes to trigger plot updates
M_slider.observe(update_sliders, 'value')
Dl_slider.observe(update_sliders, 'value')
Ds_slider.observe(update_sliders, 'value')

# Display sliders and text boxes
display(widgets.HBox([M_slider, M_text]))
display(widgets.HBox([Dl_slider, Dl_text]))
display(widgets.HBox([Ds_slider, Ds_text]))

# Initial plot
update_plot(M_slider.value, Dl_slider.value, Ds_slider.value)






import sys
import ipympl
import matplotlib
import numpy

print("Python version:", sys.version)
print("ipympl version:", ipympl.__version__)
print("matplotlib version:", matplotlib.__version__)
print("numpy version:", numpy.__version__)





answer = 0  # replace this value with your answer

if answer == np.load('./Exercises/IntroductionE1.npy'):
    print('Correct!')
else:
    print('Not quite. Try again.')





# interactive Einstein radius plot; angular, physical, and projected into the lens plane.

theta_E_max = 5.0  # Maximum value for theta_E

%matplotlib widget

# Create the figure and axis globally so they are not recreated each time
plt.close(100)  # Close the previous figure, if it exists
fig, (ax1, ax2) = plt.subplots(2, 1, figsize=(6, 6), num=100)

fig.patch.set_facecolor('black')  # Set the figure background color to black

# Main plot: Einstein ring
#--------------------------

# Set plot background and text colors
ax1.set_facecolor('black')
ax1.spines['bottom'].set_color('white')
ax1.spines['top'].set_color('white')
ax1.spines['right'].set_color('white')
ax1.spines['left'].set_color('white')
ax1.tick_params(axis='x', colors='white')
ax1.tick_params(axis='y', colors='white')
ax1.yaxis.label.set_color('white')
ax1.xaxis.label.set_color('white')
ax1.title.set_color('white')

# Add a white grid
ax1.grid(True, color='darkgrey', alpha=0.5)

# Set axis to be equal
ax1.set_aspect('equal', adjustable='box')

# Secondary plot: Distance vs. Radius
#------------------------------------

# Set plot background and text colors
ax2.set_facecolor('black')
ax2.spines['bottom'].set_color('white')
ax2.spines['top'].set_color('white')
ax2.spines['right'].set_color('white')
ax2.spines['left'].set_color('white')
ax2.tick_params(axis='x', colors='white')
ax2.tick_params(axis='y', colors='white')
ax2.yaxis.label.set_color('white')
ax2.xaxis.label.set_color('white')

# Add a white grid
ax2.grid(True, color='darkgrey', alpha=0.5)

# Set axis limits
ax2.set_xlim(0, 10)
ax2.set_ylim(-30,  30)
ratio = 5/60  # Full height half width of plot axis 2

ax2.set_xlabel('test label')

# Update the plot without making a new figure
fig.canvas.draw()

def update_plot(M, Dl, Ds):

    global theta_E_max  # Use the global variable for the maximum theta_E value
    theta_E_value = theta_E(M, Dl, Ds)  # mas
    pi_rel = 1.0/(Dl)-1.0/(Ds)  # mas  # CHECK THIS!
    r_E_au = Dl * theta_E_value  # au
    kappa = 8.144  # mas/M_Sun
    pi_E = theta_E_value / (kappa * M)  # mas

    # Update the maximum value if needed
    if theta_E_value > theta_E_max:
        theta_E_max = theta_E_value*1.1  # Increase the maximum value if needed

    # Clear the previous plot content but keep the figure and axis
    ax1.cla()  # Clear only the current axes
    ax2.cla()  # Clear only the current axes

    # Main plot: Einstein ring
    #--------------------------

    ax1.yaxis.label.set_color('white')
    ax1.xaxis.label.set_color('white')
    ax1.title.set_color('white')

    # Plot the circles
    circle = Circle((0, 0), theta_E(M, Dl, Ds), edgecolor='white', facecolor='none', 
                    alpha=1.0, label=r'$\theta_E=$%3.3f mas' %theta_E_value)
    ax1.add_patch(circle)

    # hydrogen fusing mass-radius relation (0.1 < M < 1)
    R = M**0.8 / 0.57
    R_sun2au = 0.00465  # 1 R_sun = ... au
    rho_L = R * R_sun2au / Dl # kpc, au, -> mas

    # Plot an EXAGGERATED star to represent the lens
    bigger = np.load('./Exercises/IntroductionE1.npy')
    star = Circle((0, 0), bigger * rho_L, edgecolor='yellow', facecolor='white') 
    ax1.add_patch(star)

    # Set the limits to a fixed range for simplicity
    ax1.set_xlim(-theta_E_max, theta_E_max)
    ax1.set_ylim(-theta_E_max, theta_E_max)

    # Add a legend
    ax1.legend(loc='upper right', facecolor='black', edgecolor='white', labelcolor='white')

    # Add a white grid
    ax1.grid(True, color='darkgrey', alpha=0.5)

    # Set labels and title
    ax1.set_xlabel(r'$u_1$ (mas)')
    ax1.set_ylabel(r'$u_2$ (mas)')
    ax1.set_title('Einstein Ring Size')

    # Secondary plot: Distance vs. Radius
    #------------------------------------

    ax2.yaxis.label.set_color('white')
    ax2.xaxis.label.set_color('white')

    # Plot the lens star
    R_au = R * R_sun2au
    lens_star = Ellipse((Dl, 0), width=(bigger * R_au * 2 * ratio), height=(bigger * R_au * 2), 
                        edgecolor='yellow', facecolor='white')
    lens_star.set_zorder(1)
    ax2.add_patch(lens_star)
    Earth = Ellipse((0, 0), width=(ratio), height=1, edgecolor='green', facecolor='blue')
    Earth.set_zorder(1)
    ax2.add_patch(Earth)
    Source = Ellipse((Ds, 0), width=(ratio), height=1, edgecolor='red', facecolor='yellow')
    Source.set_zorder(1)
    ax2.add_patch(Source)

    # Plot the Einstein ring as an ellipse
    einstein_ring = Ellipse((Dl, 0), width=0.1, height=2 * r_E_au, edgecolor='white', 
                            facecolor='none', alpha=1.0, 
                            label=r'$r_E=$%3.3f au; $\pi_{rel}=$%3.3f mas; $\pi_E=$%3.3f mas' %(r_E_au, pi_rel, pi_E))
    ax2.add_patch(einstein_ring)

    # Projected ojnto the source plane
    einstein_ring_proj = Ellipse((Ds, 0), width=(0.1 * Ds / Dl), height=2 * Ds * theta_E_value, 
                                 edgecolor='white', facecolor='none', linestyle='dotted', alpha=0.8)
    ax2.add_patch(einstein_ring_proj)

    # Plot the projection lines
    ax2.plot([0, 10], [0, 0], color='white', linestyle='-', zorder=0, linewidth=0.5)
    ax2.plot([0, Ds], [0, Ds * theta_E_value], color='white', linestyle='--', zorder=0, linewidth=0.5)
    ax2.plot([0, Ds], [0, -Ds * theta_E_value], color='white', linestyle='--', zorder=0, linewidth=0.5)

    # Add a white grid
    ax2.grid(True, color='darkgrey', alpha=0.5)

    # Set axis limits
    ax2.set_xlim(0, 10)
    ax2.set_ylim(-30,  30)

    # Set labels and title
    ax2.set_xlabel('Distance (kpc)')
    ax2.set_ylabel('Radius (au)')

    # Add a legend
    ax2.legend(loc='upper right', facecolor='black', edgecolor='white', labelcolor='white')

    # Update the plot without making a new figure
    fig.canvas.draw()

def update_Ds_slider(*args):
    Ds_slider.min = Dl_slider.value + 0.1  # Ensure Ds > Dl, but too close will do silly stuff
    if Ds_slider.value <= Ds_slider.min:
        Ds_slider.value = Ds_slider.min

# Function to handle updates when sliders change
def update_sliders(change):
    # Pass the current values of M, Dl, and Ds to the plot update function
    update_plot(M_slider.value, Dl_slider.value, Ds_slider.value)

# Create interactive sliders and text boxes for M, Dl, and Ds
slider_style = {'description_width': '150px'}  # Set the width of the description textboxes
slider_layout = widgets.Layout(width='500px')  # Set the width of the slider bars

M_slider = widgets.FloatSlider(value=1.0, min=0.01, max=10.0, step=0.1, 
                               description='Mass (solar masses)', 
                               style=slider_style, layout=slider_layout)
M_text = widgets.FloatText(value=1.0)

Dl_slider = widgets.FloatSlider(value=4.0, min=0.5, max=10.0, step=0.1, 
                                description='Lens Distance (kpc)', 
                                style=slider_style, layout=slider_layout)
Dl_text = widgets.FloatText(value=4.0)

Ds_slider = widgets.FloatSlider(value=8.0, min=5.1, max=10.0, step=0.1, 
                                description='Source Distance (kpc)', 
                                style=slider_style, layout=slider_layout)
Ds_text = widgets.FloatText(value=8.0)

# Link sliders and text boxes
widgets.jslink((M_slider, 'value'), (M_text, 'value'))
widgets.jslink((Dl_slider, 'value'), (Dl_text, 'value'))
widgets.jslink((Ds_slider, 'value'), (Ds_text, 'value'))

# Update the Ds slider's minimum value when Dl changes
Dl_slider.observe(update_Ds_slider, 'value')

# Observe slider value changes to trigger plot updates
M_slider.observe(update_sliders, 'value')
Dl_slider.observe(update_sliders, 'value')
Ds_slider.observe(update_sliders, 'value')

# Display sliders and text boxes
display(widgets.HBox([M_slider, M_text]))
display(widgets.HBox([Dl_slider, Dl_text]))
display(widgets.HBox([Ds_slider, Ds_text]))

# Initial plot
update_plot(M_slider.value, Dl_slider.value, Ds_slider.value)





colours = ['red', 'green', 'blue', 'orange']

M = 1.0  # M_sun
Dl = 1.0  # kpc
Ds = np.linspace(Dl, 10, 100)  # kpc
Ds = Ds[1:]  # Remove Ds = Dl

theta_E_values = np.array([theta_E(M, Dl, D) for D in Ds])

plt.close(2)  # Close the previous figure, if it exists
plt.figure(num=2, figsize=(8, 5))  # Create a new figure
plt.plot(Ds, theta_E_values, color=colours[0], label=r'$M_L=1.000M_\odot$, $D_L=1$ kpc')

######################
# Your code goes here

######################

plt.xlabel(r'Source Distance, $D_{\rm{S}}$ (kpc)')
plt.ylabel(r'Angular Einstein Radius, $\theta_{\rm{E}}$ (mas)')
plt.legend(loc='lower left', ncol=3, fontsize='small')
plt.show()





plt.close(3)
plt.figure(num=3, figsize=(9, 5))

######################
# Your code goes here

######################

plt.show()



















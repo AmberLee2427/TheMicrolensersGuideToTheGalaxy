{
 "cells": [
  {
   "cell_type": "markdown",
   "metadata": {},
   "source": [
    "*There are no recommended prerequisites for this notebook.*"
   ]
  },
  {
   "cell_type": "code",
   "execution_count": null,
   "metadata": {},
   "outputs": [],
   "source": [
    "# package imports (SHIFT + ENTER to run)\n",
    "\n",
    "# dev note : create remnant section\n",
    "# dev note : add contents\n",
    "# dev note : create exercises\n",
    "# dev note : add solutions\n",
    "# dev note : consistency checks\n",
    "# dev note : proof reading"
   ]
  },
  {
   "cell_type": "markdown",
   "metadata": {},
   "source": [
    "# Stellar remnants and dark matter\n",
    "\n",
    "This notebook is **part 3** of an introductory bundle, meant to be consumed sequentially according to this outline:\n",
    "\n",
    "<h3>Contents</h3>\n",
    "\n",
    "- [What is microlensing?](Introduction.ipynb#what-is-microlensing) ([part 1](Introduction.ipynb))\n",
    "\n",
    "- [What is it used for?](Introduction.ipynb#what-is-it-used-for)\n",
    "\n",
    "  - [Exoplanets](PlanetsAndBrownDwarfs.ipynb#exoplanets) ([part 2](PlanetsAndBrownDwarfs.ipynb))\n",
    "\n",
    "  - [Brown dwarfs](PlanetsAndBrownDwarfs.ipynb#brown-dwarfs)\n",
    "\n",
    "  - [Black holes and other remnants](#black-holes-and-other-remnants) (part 3)\n",
    "\n",
    "  - [Dark matter](#dark-matter)\n",
    "\n",
    "  - [The Macho project](#the-macho-project)\n",
    "  \n",
    "- [Microlensing eras (part 4)](Era.ipynb)\n",
    "\n",
    "  - [Past](Era.ipynb)\n",
    "\n",
    "  - [Present](Era.ipynb)\n",
    "  \n",
    "  - [Future](Era.ipynb)"
   ]
  },
  {
   "cell_type": "markdown",
   "metadata": {},
   "source": [
    "## Black holes and other remnants\n",
    "\n"
   ]
  },
  {
   "cell_type": "markdown",
   "metadata": {},
   "source": [
    "## Dark matter\n",
    "The other non-luminous elephant in the room is dark matter. Gravitational lensing has already proven its usefulness at \"observing\" diffuse collections of dark matter, as in the case of the [Bullet Cluster](https://en.wikipedia.org/wiki/Bullet_Cluster) (below), but detecting it using microlensing is more of a challenge. \n",
    "\n",
    "| The Bullet Cluster |\n",
    "| :-: |\n",
    "| <img src=\"https://upload.wikimedia.org/wikipedia/commons/thumb/a/a8/1e0657_scale.jpg/600px-1e0657_scale.jpg\" alt=\"The Bullet Cluster\" width=\"560\"/> |\n",
    "| Composite image showing the galaxy cluster [1E 0657-56](https://chandra.harvard.edu/photo/2006/1e0657/more.html), better known as Bullet Cluster. The image in background showing the visible spectrum of light stems from Magellan and Hubble Space Telescope images. The pink overlay shows the x-ray emission (recorded by Chandra Telescope) of the colliding clusters, the blue one represents the mass distribution of the clusters calculated from gravitational lens effects. Scale: Full image is 7.5 arcmin wide, 5.4 arcmin high. **Credit:** [NASA](http://www.nasa.gov/)/[CXC](https://cxc.harvard.edu/)/[Chandra X-Ray Observatory](https://chandra.harvard.edu/) **Acknowledgment:** M. Weiss |\n",
    "        \n",
    "Microlensing is a fine-grain tool compared to large-scale lensing, and finding specific kinds of events takes a concerted effort, with tailored observing and data processing strategies. Microlensing surveys are oriented toward the bulge because it provides densely populated images, increasing the chance of transient alignment events, and the distance scales are compatible with the detection of lenses with masses ranging from planetary to stellar. For example, if we wanted to search for black holes on a much shorter time frame, with event timescales on the order of days to months, we would want to look for these objects at lens and source distance more like $1000\\,\\rm{kpc}$, which is to say in other galaxies in the local group, introducing a plethora of new observing challenges. Therefore, observing dark matter with microlensing requires some knowledge or theories about what it is.\n",
    "\n",
    "Dark matter is thought to interact with ordinary matter (matter composed of protons, neutrons, and electrons) through gravitational force, but not emit light or interact electromagnetically. \n",
    "\n",
    "### Why do we need it?\n",
    "Dark matter is necessary to explain the collapse of the fairly homogeneous gas of the early universe, to progressively bigger clumps. This homogeneity is demonstrated by the Cosmic Microwave Background (CMB), which has density variations on the order of $10^{-5}$ [(Plank Collaboration, 2016)](https://ui.adsabs.harvard.edu/abs/2016A&A...594A...1P). For the majority of its first $\\sim300\\,000$ years, the universe was a big photon-baryon soup. In the very early universe, quantum fluctuations created potential hills and wells, which were stretched onto cosmic scales during the rapid expansion period. These potential wells drew in material, but photon pressure in the baryon-photon fluid resisted this compression, resulting in oscillations. These oscillating pressure waves are known as baryonic acoustic oscillations and are responsible for the density landscape of the current universe; when the universe had cooled enough for atoms to form ([recombination](https://en.wikipedia.org/wiki/Recombination_(cosmology))), the baryon-photon fluid released photons (first light, now observed as the CMB) and the pressure waves froze as they were. Dark matter acted to deepen the potential wells (gravitationally attracting material, but without the photon pressure forcing it to oscillate), which affected the acoustic oscillations. The specific manner in which the oscillations are predicted to be affected is supported by observed temperature variations in the CMB [Hu, 2000](https://ui.adsabs.harvard.edu/abs/2000Natur.404..939H).\n",
    "\n",
    "> <i>These effects and processes are well explained in [Wayne Hu's Intermediate Guide to the Acoustic Peaks and Polarization](http://background.uchicago.edu/~whu/intermediate/intermediate.html). </i>\n",
    "     \n",
    "<h5> <i>\"Diffusion damping during recombination is expected to wipe out all small-scale structure in baryons, preventing the formation of galaxies at late times. Dark matter, however, can sustain structure during the damping regime, and will seed the formation of galaxies\" </i> <a href=\"https://ui.adsabs.harvard.edu/abs/2012PhR...513....1C\"> - Clifton et al. (2020)</a> </h5>\n",
    "\n",
    "Dark matter is also used to explain the rotation curves we see in galaxies ([Linbald, 1927](https://ui.adsabs.harvard.edu/abs/1927MNRAS..87..553L); [Babcock, 1939](https://ui.adsabs.harvard.edu/abs/1939LicOB..19...41B); and [Oort, 1940](https://ui.adsabs.harvard.edu/abs/1940ApJ....91..273O)). The expectation, from the density of luminous matter in galaxies, is for decreasing rotational velocity with radius (beyond the solid body rotation at the centre). However, observations of galaxies and clusters have consistently flat rotation curves ([Rubin & Ford, 1970](https://ui.adsabs.harvard.edu/abs/1970ApJ...159..379R)). Our current understanding of dark matter's role in Galactic structure is that it exists in a roughly spherical \"halo\" ([Navarro, Frenk, & White, 1996](https://ui.adsabs.harvard.edu/abs/1996ApJ...462..563N); see also, [**NFW Profile**](https://en.wikipedia.org/wiki/Navarro%E2%80%93Frenk%E2%80%93White_profile)), while the normal, radiative, star-forming gas collapses into a disk. This explains the flat rotation curves that we observe in galaxies because the mass is not concentrated in the Galactic centre. \n",
    "\n",
    "Dark matter is also necessary to explain the velocity dispersions we see in galaxy clusters ([Zwicky, 1933](https://ui.adsabs.harvard.edu/abs/2009GReGr..41..207Z)).\n",
    "\n",
    "Dark matter is not a necessary part of the standard model of particle physics and cannot be described without extension to the standard model. Dark matter is entirely superfluous given our current understanding of particle physics. The existence of dark matter is entirely supported by astrophysical observations that do not match our models.\n",
    "\n",
    "### What is it?\n",
    "There have been many proposed particle-physics solutions put forward to solve this astrophysical problem. Dark matter has been proposed in the form of exotic particles, such as [WIMPs (Weakly interacting massive particles)](https://en.wikipedia.org/wiki/Weakly_interacting_massive_particle), [axions](https://en.wikipedia.org/wiki/Axion), and [sterile neutrinos](https://en.wikipedia.org/wiki/Sterile_neutrino). However, searches for these exotic particles have been largely fruitless (see, for example, the following review articles: [Peter, 2012](https://ui.adsabs.harvard.edu/abs/2012arXiv1201.3942P); [Profumo, Giani, & Piattella, 2019](https://ui.adsabs.harvard.edu/abs/2019Univ....5..213P)).\n",
    "\n",
    "Another proposed solution to the dark matter problems is modified Newtonian dynamics ([MOND](https://en.wikipedia.org/wiki/Modified_Newtonian_dynamics); [Milgrom, 1983](https://ui.adsabs.harvard.edu/abs/1983ApJ...270..365M)), which postulates that this issue with rotation curves is not with our understanding of the composition of galaxies, but instead with our understanding of gravity at large distances. MOND described the gravitational force, beyond some acceleration limit, $a_0$, to be decreasing proportional to inverse radius as opposed to the inverse square radius of Newtonian dynamics. The theories developed to marry MOND with general relativity are collectively termed modified gravity (summarised in [Clifton et al., 2012](https://ui.adsabs.harvard.edu/abs/2012PhR...513....1C)). Arguments against modified gravity basically reduce to their mathematical formulations being phenomenological. Conversely, an oversimplification of arguments against general relativity being complete, and particle dark matter necessary, are the density model inconsistencies from cosmological to galactic scales (i.e., the cusp/core problem; [Del Popolo & Le Delliou, 2022](https://ui.adsabs.harvard.edu/abs/2022arXiv220914151D))."
   ]
  },
  {
   "cell_type": "markdown",
   "metadata": {},
   "source": [
    "This [video](https://www.youtube.com/watch?v=HJ8F0pfNTgM) explains how recent observations from [JWST](https://en.wikipedia.org/wiki/James_Webb_Space_Telescope) have created a resurgence in MONDs popularity.\n",
    "\n",
    "<img align=left src=\"./Assets/MOND_GoogleTrends.png\" alt=\"GoggleTrend results for MOND\" width=\"450\"/>\n",
    "<p align=right>\n",
    "<iframe width=\"560\" height=\"315\" src=\"https://www.youtube.com/embed/HJ8F0pfNTgM\" title=\"Has JWST shown that dark matter doesn’t exist?\" frameborder=\"0\" allow=\"accelerometer; autoplay; clipboard-write; encrypted-media; gyroscope; picture-in-picture; web-share\" referrerpolicy=\"strict-origin-when-cross-origin\" allowfullscreen></iframe>\n",
    "</p> \n"
   ]
  },
  {
   "cell_type": "markdown",
   "metadata": {},
   "source": [
    "Astrophysical suggestions for dark matter include primordial black holess and Massive Astrophysical Compact Halo Objects ([MACHOs](https://en.wikipedia.org/wiki/Massive_compact_halo_object)). MACHOs are meant to include all dim astrophysical bodies, which may or may not be composed of baryonic matter: primordial black holes,<sup>*<sub>1</sub></sup> FFPs, brown dwarfs, neutron stars, white dwarfs, and black holes. Determining the prominence of these objects in the Galactic Halo was the primary science goal of the MACHO Collaboration ([Alcock et al., 1993](https://ui.adsabs.harvard.edu/abs/1993Natur.365..621A)). \n",
    "\n",
    "> <sup>*<sub>1</sub></sup> <i>Primordial black holes</i> are a theorised (in [Zel'dovich & Novikov, 1966](https://ui.adsabs.harvard.edu/abs/1966AZh....43..758Z)) type of black hole that are meant to have formed in the first moments of the universe, when it was between $10^{-36}\\,\\rm{s}$ and $10^{-32}\\,\\rm{s}$ old. Those with masses of $10^{12}\\,\\rm{kg}$ to thousands of solar masses would have survived (and not evaporated via Hawking radiation) to the current age of the universe ([Carr et al., 2010](https://ui.adsabs.harvard.edu/abs/2010PhRvD..81j4019C) and [Wang et al., 2021](https://ui.adsabs.harvard.edu/abs/2021PhRvD.103d3010W)).\n",
    "        \n",
    "The underlying assertion behind astrophysical explanations for dark matter is that the problem is with our population models, not with our understanding of matter. The bonus to this interpretation is that one does not have to solve all of the problems that indicate the existence of dark matter at once because they are born of different models.  For example, MACHOs could explain the problem with the rotation curves of galaxies, but have no bearing on baryonic acoustic oscillations in the early universe.\n",
    "\n",
    "## The MACHO project\n",
    "If MACHOs are responsible for the rotation curve of our galaxy, then source stars in the [Magellanic clouds](https://en.wikipedia.org/wiki/Magellanic_Clouds) (the small Magellanic cloud (SMC) and large Magellanic cloud (LMC) dwarf galaxies orbiting the [Milky Way](https://en.wikipedia.org/wiki/Milky_Way)). They have apparent sizes (in V band) of $11\\times9\\,{\\rm deg}$ and $5\\times3\\,{\\rm deg}$, and are located at $({\\rm RA},{\\rm Dec})=(05^{\\rm h}\\, 23^{\\rm m}\\,34^{\\rm s}, -69^o \\, 45.4')$ and $({\\rm RA},{\\rm Dec})=00^{\\rm h}\\, 53^{\\rm m}\\,44.8^{\\rm s},-72^o \\, 49'\\,43'')$, respectively.} have an approximately $10^{-6}$ probability of undergoing strong lensing on a microlensing scale ([Paczynski, 1986](https://ui.adsabs.harvard.edu/abs/1986ApJ...304....1P)). The early microlensing surveys concentrated on SMC and LMC pointings because the number of stars in the SMC and LMC brought the probability of lensing events occurring up to reasonable levels, the line of sight is dominated by ``halo'' space, and the range of possible lens and source distances allowed for a large range of mass sensitivities ($10^{-7}\\,M_\\odot$ to $100\\,M_\\odot$; [Griest, 1991](https://ui.adsabs.harvard.edu/abs/1991ApJ...366..412G)). They also recognised early on the benefits of bulge-directed observations, for their higher predicted event rate, for finding disk dark matter and probing the low-mass end of the stellar mass function ([Paczynski, 1991](https://ui.adsabs.harvard.edu/abs/1991ApJ...371L..63P), [Griest et al., 1991](https://ui.adsabs.harvard.edu/abs/1991ApJ...372L..79G)). \n",
    "\n",
    "The microlensing contribution to this dark-matter story are well summarised in [*\"Three decades of the OGLE survey\"*](https://www.astro.sk/caosp/Eedition/FullTexts/vol54no2/pp234-248.pdf) ([Soszynski, 2024](https://ui.adsabs.harvard.edu/abs/2024CoSka..54b.234S)). But, suffice it to say that the number of halo lensing events did not meet the expectations set by a MACHO-dark-mater model. This is summarised in the findings of [Mroz et al. (2024)](https://ui.adsabs.harvard.edu/abs/2024arXiv240302398M);  in 20 years, there have been 13 event detections facing the LMC, all of which could plausibly be explained by disk or LMC lens stars. They conclude that MACHOs in the mass range of $1.3\\times10^{-5}\\,M_\\odot\\lesssim M\\lesssim860\\,M_\\odot$, could, at most, explain 10% of the dark-matter budget.\n",
    "\n",
    "The community fairly quickly pivoted their attention to leveraging microlensing for exoplanet studies ([Sackett, 1997](https://ui.adsabs.harvard.edu/abs/1997astro.ph..9269S)). While the first LMC directed lensing event was detected in 1993 ([Alcock et al., 1993](https://ui.adsabs.harvard.edu/abs/1993Natur.365..621A)), the first conclusive planetary-companion binary lens was OGLE 2003-BLG-235/MOA 2003-BLG-53 ([Bond et al., 2004](https://ui.adsabs.harvard.edu/abs/2004ApJ...606L.155B)).\n",
    "\n",
    "The unexpected large number of microlensing FFPs resulted in a brief resurgence in the idea of MACHO dark matter (specifically the idea that the FFPs may be msidiagosed, Earth-mass, promordial black holes; [Niikura, 2019](https://arxiv.org/abs/1901.07120)) that was ultimately quelled by dedicated, higher-cadence survey observations of the Magellanic clouds by the OGLE team ([Mroz et al., 2024](https://ui.adsabs.harvard.edu/abs/2024ApJ...976L..19M))\n",
    "\n",
    "Although initially proposed as a method for detecting astrophysical objects in the halo to explain dark matter, microlensing praxis (its observational tactics, analysis techniques, and science goals) has dramatically evolved over the lifetime of the field. The research priorities and practices of current microlensing teams are heavily influenced by past and future incarnations of this field. "
   ]
  },
  {
   "cell_type": "markdown",
   "metadata": {},
   "source": [
    "## Nest Steps\n",
    "\n",
    "Currently, microlensing is a tool used first and foremost for finding and classifying exoplanets, with brown dwarf observations being more incidental than directed, and black-hole detections a convenient expansion of goals based on existing data. Like a Pokemon, micolensing can be thought of as having three evolutionary states. We are currently all excitedly waiting for its next evoloution, with the scheduled launch of the [Nancy Grace Roman Space Telescope](NGRST.ipynb) (in preperation), in 2027. If you are interested in learning more about the evolutions of microlensing, they are the topic of the next recommended notebook: \n",
    "\n",
    "[Microlensing Eras](Eras.ipynb) (in preperation).\n",
    "\n",
    "Other notebooks you might consider include:\n",
    "* [Single Lenses](SingleLens.ipynb),\n",
    "* [Modelling](Modelling.ipynb), or\n",
    "* [Photometry](Photometry.ipynb) (in preperation)."
   ]
  }
 ],
 "metadata": {
  "kernelspec": {
   "display_name": "TheGuide-P312defaults",
   "language": "python",
   "name": "python3"
  },
  "language_info": {
   "name": "python",
   "version": "3.12.8"
  }
 },
 "nbformat": 4,
 "nbformat_minor": 2
}

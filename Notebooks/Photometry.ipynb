{
 "cells": [
  {
   "cell_type": "markdown",
   "metadata": {},
   "source": [
    "*The recommended prerequisits for this notebook are...*"
   ]
  },
  {
   "cell_type": "code",
   "execution_count": 1,
   "metadata": {},
   "outputs": [],
   "source": [
    "# package imports (SHIFT + ENTER to run)"
   ]
  },
  {
   "cell_type": "markdown",
   "metadata": {},
   "source": [
    "# Photometry (in development)\n",
    "\n",
    "<style>\n",
    ".exercise {\n",
    "    background-color: #E0E0E0;\n",
    "    border-left: 8px solid #808080;\n",
    "    padding: 10px 0 10px 20px;  /* top, right, bottom, left */\n",
    "    margin: 20px 5px;  \n",
    "    box-sizing: border-box;  \n",
    "}\n",
    ".exercise h2 {\n",
    "    color: #808080;\n",
    "    font-size: 24px;\n",
    "}\n",
    ".exercise p {\n",
    "    margin: 0 20px;  /* Adjust this value to add space after the paragraph */\n",
    "}\n",
    "</style>\n",
    "\n",
    "<div class=\"exercise\">\n",
    "    <h2>Exercise x</h2>\n",
    "    <p>Instruction.</p>\n",
    "    <br>\n",
    "    <p><i>Note.</i></p>\n",
    "    <br>\n",
    "</div>\n",
    "\n",
    "> Footnote-like aside\n",
    "\n",
    "<h5> <ul> <i>\"Quotes.\" - Author</i> </ul> </h5>\n",
    "\n"
   ]
  },
  {
   "cell_type": "markdown",
   "metadata": {},
   "source": [
    "## Methods\n",
    "\n",
    "### PSF fitting\n",
    "\n",
    "### ePSF (extracted PSF, Anderson & King 2000)\n",
    "\n",
    "### Aperture\n",
    "\n",
    "### Difference imaging\n",
    "\n",
    "## Sources of noise\n",
    "\n",
    "### Jitter and drift (ground and satellite)\n",
    "from Optical + Thermal + Mechanical sources and cannot be fully removed\n",
    "low frequency jitter introduces more noice than high frequency fitter, even if their RMS is the same\n",
    "\n",
    "### PNRU (pixel response non-uniformity)\n",
    "basically resolved by the flat field\n",
    "\n",
    "### PRF (pixel reposince function/Intra pixel non uniformity)\n",
    "ePSF handles this well (PSF and DIA did not)\n",
    "\n",
    "### Charge diffusion (non-linear photon transfer curve)\n",
    "small-scale croos-talk\n",
    "the effect is flux--dependent charge diffusion\n",
    "if this diffusion is not constant (true in practice) PSF photometry can't account for this\n",
    "\n",
    "### Time (high-energy cosmic radiation)\n",
    "deteriorates the detector?\n"
   ]
  },
  {
   "cell_type": "markdown",
   "metadata": {},
   "source": []
  }
 ],
 "metadata": {
  "kernelspec": {
   "display_name": "TheGuide",
   "language": "python",
   "name": "python3"
  },
  "language_info": {
   "codemirror_mode": {
    "name": "ipython",
    "version": 3
   },
   "file_extension": ".py",
   "mimetype": "text/x-python",
   "name": "python",
   "nbconvert_exporter": "python",
   "pygments_lexer": "ipython3",
   "version": "3.8.19"
  }
 },
 "nbformat": 4,
 "nbformat_minor": 2
}

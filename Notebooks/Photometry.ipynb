{
 "cells": [
  {
   "cell_type": "markdown",
   "metadata": {},
   "source": [
    "# Photometry\n",
    "\n",
    "## Methods\n",
    "\n",
    "### PSF fitting\n",
    "\n",
    "### ePSF (extracted PSF, Anderson & King 2000)\n",
    "\n",
    "### Aperture\n",
    "\n",
    "### Difference Imaging\n",
    "\n",
    "## Sources of Noise\n",
    "\n",
    "### Jitter and Drift (ground and satellite)\n",
    "from Optical + Thermal + Mechanical sources and cannot be fully removed\n",
    "low frequency jitter introduces more noice than high frequency fitter, even if their RMS is the same\n",
    "\n",
    "### PNRU (pixel response non-uniformity)\n",
    "basically resolved by the flat field\n",
    "\n",
    "### PRF (pixel reposince function/Intra pixel non uniformity)\n",
    "ePSF handles this well (PSF and DIA did not)\n",
    "\n",
    "### Charge diffusion (Non-Linear Photon Transfer Curve)\n",
    "small-scale croos-talk\n",
    "the effect is flux--dependent charge diffusion\n",
    "if this diffusion is not constant (true in practice) PSF photometry can't account for this\n",
    "\n",
    "### Time (High-Energy Cosmic Radiation)\n",
    "deteriorates the detector?\n"
   ]
  },
  {
   "cell_type": "markdown",
   "metadata": {},
   "source": []
  }
 ],
 "metadata": {
  "language_info": {
   "name": "python"
  }
 },
 "nbformat": 4,
 "nbformat_minor": 2
}

{
 "cells": [
  {
   "cell_type": "markdown",
   "metadata": {},
   "source": [
    "# Binary Source Experiments"
   ]
  },
  {
   "cell_type": "code",
   "execution_count": 3,
   "metadata": {},
   "outputs": [],
   "source": [
    "import numpy as np\n",
    "import emcee\n",
    "import MulensModel as mm"
   ]
  },
  {
   "cell_type": "code",
   "execution_count": 6,
   "metadata": {},
   "outputs": [
    {
     "ename": "ValueError",
     "evalue": "Model.get_magnification() parameter flux_ratio_constraint has to be None for single source models, not 5.0",
     "output_type": "error",
     "traceback": [
      "\u001b[1;31m---------------------------------------------------------------------------\u001b[0m",
      "\u001b[1;31mValueError\u001b[0m                                Traceback (most recent call last)",
      "Cell \u001b[1;32mIn[6], line 17\u001b[0m\n\u001b[0;32m     15\u001b[0m time \u001b[38;5;241m=\u001b[39m np\u001b[38;5;241m.\u001b[39msort(np\u001b[38;5;241m.\u001b[39mconcatenate((time_a, time_b)))\n\u001b[0;32m     16\u001b[0m model_1 \u001b[38;5;241m=\u001b[39m mm\u001b[38;5;241m.\u001b[39mModel({\u001b[38;5;124m'\u001b[39m\u001b[38;5;124mt_0\u001b[39m\u001b[38;5;124m'\u001b[39m: t_0_1, \u001b[38;5;124m'\u001b[39m\u001b[38;5;124mu_0\u001b[39m\u001b[38;5;124m'\u001b[39m: u_0_1, \u001b[38;5;124m'\u001b[39m\u001b[38;5;124mt_E\u001b[39m\u001b[38;5;124m'\u001b[39m: t_E})\n\u001b[1;32m---> 17\u001b[0m A_1 \u001b[38;5;241m=\u001b[39m \u001b[43mmodel_1\u001b[49m\u001b[38;5;241;43m.\u001b[39;49m\u001b[43mget_magnification\u001b[49m\u001b[43m(\u001b[49m\u001b[43mtime\u001b[49m\u001b[43m,\u001b[49m\u001b[43m \u001b[49m\u001b[43msource_flux_ratio\u001b[49m\u001b[38;5;241;43m=\u001b[39;49m\u001b[38;5;241;43m5.\u001b[39;49m\u001b[43m)\u001b[49m\n\u001b[0;32m     18\u001b[0m model_2 \u001b[38;5;241m=\u001b[39m mm\u001b[38;5;241m.\u001b[39mModel({\u001b[38;5;124m'\u001b[39m\u001b[38;5;124mt_0\u001b[39m\u001b[38;5;124m'\u001b[39m: t_0_2, \u001b[38;5;124m'\u001b[39m\u001b[38;5;124mu_0\u001b[39m\u001b[38;5;124m'\u001b[39m: u_0_2, \u001b[38;5;124m'\u001b[39m\u001b[38;5;124mt_E\u001b[39m\u001b[38;5;124m'\u001b[39m: t_E})\n\u001b[0;32m     19\u001b[0m A_2 \u001b[38;5;241m=\u001b[39m model_2\u001b[38;5;241m.\u001b[39mget_magnification(time)\n",
      "File \u001b[1;32mc:\\Users\\amber\\anaconda3\\envs\\mercury\\Lib\\site-packages\\mulensmodel-2.24.0-py3.11-win-amd64.egg\\MulensModel\\model.py:1316\u001b[0m, in \u001b[0;36mModel.get_magnification\u001b[1;34m(self, time, satellite_skycoord, gamma, bandpass, source_flux_ratio, separate, flux_ratio_constraint)\u001b[0m\n\u001b[0;32m   1309\u001b[0m     \u001b[38;5;28;01mif\u001b[39;00m (source_flux_ratio \u001b[38;5;129;01mis\u001b[39;00m \u001b[38;5;28;01mNone\u001b[39;00m) \u001b[38;5;129;01mand\u001b[39;00m (separate \u001b[38;5;129;01mis\u001b[39;00m \u001b[38;5;28;01mFalse\u001b[39;00m):\n\u001b[0;32m   1310\u001b[0m         \u001b[38;5;28;01mraise\u001b[39;00m \u001b[38;5;167;01mValueError\u001b[39;00m(\n\u001b[0;32m   1311\u001b[0m             \u001b[38;5;124m'\u001b[39m\u001b[38;5;124mFor 2 sources either source_flux_ratio should be set or\u001b[39m\u001b[38;5;124m'\u001b[39m \u001b[38;5;241m+\u001b[39m\n\u001b[0;32m   1312\u001b[0m             \u001b[38;5;124m'\u001b[39m\u001b[38;5;124m separate=True. \u001b[39m\u001b[38;5;130;01m\\n\u001b[39;00m\u001b[38;5;124m'\u001b[39m \u001b[38;5;241m+\u001b[39m\n\u001b[0;32m   1313\u001b[0m             \u001b[38;5;124m'\u001b[39m\u001b[38;5;124mseparate: \u001b[39m\u001b[38;5;132;01m{0}\u001b[39;00m\u001b[38;5;130;01m\\n\u001b[39;00m\u001b[38;5;124m'\u001b[39m\u001b[38;5;241m.\u001b[39mformat(separate) \u001b[38;5;241m+\u001b[39m\n\u001b[0;32m   1314\u001b[0m             \u001b[38;5;124m'\u001b[39m\u001b[38;5;124msource_flux_ratio: \u001b[39m\u001b[38;5;132;01m{0}\u001b[39;00m\u001b[38;5;124m'\u001b[39m\u001b[38;5;241m.\u001b[39mformat(source_flux_ratio))\n\u001b[1;32m-> 1316\u001b[0m magnification \u001b[38;5;241m=\u001b[39m \u001b[38;5;28;43mself\u001b[39;49m\u001b[38;5;241;43m.\u001b[39;49m\u001b[43m_get_magnification\u001b[49m\u001b[43m(\u001b[49m\n\u001b[0;32m   1317\u001b[0m \u001b[43m    \u001b[49m\u001b[43mtime\u001b[49m\u001b[43m,\u001b[49m\u001b[43m \u001b[49m\u001b[43msatellite_skycoord\u001b[49m\u001b[43m,\u001b[49m\u001b[43m \u001b[49m\u001b[43mgamma\u001b[49m\u001b[43m,\u001b[49m\u001b[43m \u001b[49m\u001b[43msource_flux_ratio\u001b[49m\u001b[43m,\u001b[49m\u001b[43m \u001b[49m\u001b[43mseparate\u001b[49m\u001b[43m)\u001b[49m\n\u001b[0;32m   1319\u001b[0m \u001b[38;5;28;01mreturn\u001b[39;00m magnification\n",
      "File \u001b[1;32mc:\\Users\\amber\\anaconda3\\envs\\mercury\\Lib\\site-packages\\mulensmodel-2.24.0-py3.11-win-amd64.egg\\MulensModel\\model.py:1343\u001b[0m, in \u001b[0;36mModel._get_magnification\u001b[1;34m(self, time, satellite_skycoord, gamma, source_flux_ratio, separate)\u001b[0m\n\u001b[0;32m   1341\u001b[0m \u001b[38;5;28;01mif\u001b[39;00m \u001b[38;5;28mself\u001b[39m\u001b[38;5;241m.\u001b[39mn_sources \u001b[38;5;241m==\u001b[39m \u001b[38;5;241m1\u001b[39m:\n\u001b[0;32m   1342\u001b[0m     \u001b[38;5;28;01mif\u001b[39;00m source_flux_ratio \u001b[38;5;129;01mis\u001b[39;00m \u001b[38;5;129;01mnot\u001b[39;00m \u001b[38;5;28;01mNone\u001b[39;00m:\n\u001b[1;32m-> 1343\u001b[0m         \u001b[38;5;28;01mraise\u001b[39;00m \u001b[38;5;167;01mValueError\u001b[39;00m(\n\u001b[0;32m   1344\u001b[0m             \u001b[38;5;124m'\u001b[39m\u001b[38;5;124mModel.get_magnification() parameter \u001b[39m\u001b[38;5;124m'\u001b[39m \u001b[38;5;241m+\u001b[39m\n\u001b[0;32m   1345\u001b[0m             \u001b[38;5;124m'\u001b[39m\u001b[38;5;124mflux_ratio_constraint has to be None for single source \u001b[39m\u001b[38;5;124m'\u001b[39m \u001b[38;5;241m+\u001b[39m\n\u001b[0;32m   1346\u001b[0m             \u001b[38;5;124m'\u001b[39m\u001b[38;5;124mmodels, not \u001b[39m\u001b[38;5;132;01m{:}\u001b[39;00m\u001b[38;5;124m'\u001b[39m\u001b[38;5;241m.\u001b[39mformat(source_flux_ratio))\n\u001b[0;32m   1347\u001b[0m     \u001b[38;5;28;01melif\u001b[39;00m separate:\n\u001b[0;32m   1348\u001b[0m         \u001b[38;5;28;01mraise\u001b[39;00m \u001b[38;5;167;01mValueError\u001b[39;00m(\n\u001b[0;32m   1349\u001b[0m             \u001b[38;5;124m'\u001b[39m\u001b[38;5;124mModel.get_magnification() parameter separate \u001b[39m\u001b[38;5;124m'\u001b[39m \u001b[38;5;241m+\u001b[39m\n\u001b[0;32m   1350\u001b[0m             \u001b[38;5;124m'\u001b[39m\u001b[38;5;124mcannot be True for single source models\u001b[39m\u001b[38;5;124m'\u001b[39m)\n",
      "\u001b[1;31mValueError\u001b[0m: Model.get_magnification() parameter flux_ratio_constraint has to be None for single source models, not 5.0"
     ]
    }
   ],
   "source": [
    "# First, prepare the data. There is nothing very exciting in this part,\n",
    "# so you may skip it.\n",
    "t_0_1 = 6100.\n",
    "u_0_1 = 0.2\n",
    "t_0_2 = 6140.\n",
    "u_0_2 = 0.01\n",
    "t_E = 25.\n",
    "assumed_flux_1 = 100.\n",
    "assumed_flux_2 = 5.\n",
    "assumed_flux_blend = 10.\n",
    "n_a = 1000\n",
    "n_b = 600\n",
    "time_a = np.linspace(6000., 6300., n_a)\n",
    "time_b = np.linspace(6139., 6141., n_b)\n",
    "time = np.sort(np.concatenate((time_a, time_b)))\n",
    "model_1 = mm.Model({'t_0': t_0_1, 'u_0': u_0_1, 't_E': t_E})\n",
    "A_1 = model_1.get_magnification(time, source_flux_ratio=5.)\n",
    "model_2 = mm.Model({'t_0': t_0_2, 'u_0': u_0_2, 't_E': t_E})\n",
    "A_2 = model_2.get_magnification(time)\n",
    "flux = A_1 * assumed_flux_1 + A_2 * assumed_flux_2 + assumed_flux_blend\n",
    "flux_err = 6. + 0. * time\n",
    "flux += flux_err * np.random.normal(size=n_a+n_b)\n",
    "my_dataset = mm.MulensData([time, flux, flux_err], phot_fmt='flux')\n",
    "# If you want to plot, then just uncomment:\n",
    "# plt.plot(time, flux, 'ro')\n",
    "# plt.show()"
   ]
  },
  {
   "cell_type": "code",
   "execution_count": null,
   "metadata": {},
   "outputs": [],
   "source": []
  }
 ],
 "metadata": {
  "kernelspec": {
   "display_name": "mercury",
   "language": "python",
   "name": "python3"
  },
  "language_info": {
   "codemirror_mode": {
    "name": "ipython",
    "version": 3
   },
   "file_extension": ".py",
   "mimetype": "text/x-python",
   "name": "python",
   "nbconvert_exporter": "python",
   "pygments_lexer": "ipython3",
   "version": "3.11.5"
  }
 },
 "nbformat": 4,
 "nbformat_minor": 2
}

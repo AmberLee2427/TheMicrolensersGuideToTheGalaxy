{
 "cells": [
  {
   "cell_type": "code",
   "execution_count": null,
   "metadata": {},
   "outputs": [],
   "source": [
    "import numpy as np\n",
    "import matplotlib.pyplot as plt\n",
    "import MulensModel as mm\n",
    "import emcee\n",
    "import corner\n",
    "import os\n",
    "from scipy.optimize import minimize\n",
    "import sys\n",
    "\n",
    "sys.path.append('../Modules')\n",
    "from Guide import define, list_entries, list_notebooks, open_notebook"
   ]
  },
  {
   "cell_type": "markdown",
   "metadata": {},
   "source": []
  }
 ],
 "metadata": {
  "language_info": {
   "name": "python"
  }
 },
 "nbformat": 4,
 "nbformat_minor": 2
}

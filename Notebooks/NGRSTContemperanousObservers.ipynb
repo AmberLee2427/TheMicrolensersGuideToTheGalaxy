{
 "cells": [
  {
   "cell_type": "markdown",
   "metadata": {},
   "source": [
    "# NGRST Contemperanous Observers\n",
    "\n",
    "## Prime\n",
    "opening ceremony is after the microlensing conference (details are up on website)\n",
    "- fast telescope, fast dome (recent upgrade, June 2024)\n",
    "- GB survey started July 2023\n",
    "- wide angle\n",
    "- 35 field (51^2 deg)\n",
    "- 100s exp\n",
    "- 4min for 12 exposures \n",
    "- cadnece was 3-4/ night, now 5-6?\n",
    "- H band\n",
    "- Some overlap with MOA fields\n",
    "- Reduction pipeline still in progress (0ct 2024)\n",
    "- all sky on off-bulge season to make reff images for ToO\n",
    "(Taka Sumi, RGESPit F2F, Oct 2024)\n",
    "\n",
    "## Subaru\n",
    "- very low mass FFP? (check slide 1)\n",
    "- Hawaii\n",
    "- 116 2k4k ccds\n",
    "- Filters: grizy and narrow band (good synergy with Roman)\n",
    "- 8m (good for high ext. fields that Roman will observe)\n",
    "- making an extinction map (important for simulating images - employ asap)\n",
    "- sumi (2023) mass function; check with high cadence subaru (planned work)\n",
    "- instruments\n",
    "    - HSC (are the replacing this ?)\n",
    "    - PFS (dark)\n",
    "    - ultimate (bright)\n",
    "        -14 arcmin x 114 arcmin FOV\n",
    "    - IRC and SCExAo from 2027 (bright)\n",
    "- [] needs a simulation to work out the number off FFPs with detectable parallax from Subaru (deadline for subaru proposal is march\n",
    "        - was he talking about FFPs here, or was I imagining it?\n",
    "        - need observing details (20 nights, 10 hrs, ...)\n",
    "- [] implement Suzuki's extinction map\n",
    "        - get some preliminary data (proably a Macey job to implement)\n",
    "(Daisuki Sazuki, RGESPit F2F, Oct 2024)\n",
    "\n",
    "## HST\n",
    "Approved for Cycle 32\n",
    "Early Roman field epochs\n",
    "WFC3 + ACS, 117 orbits (40% of GBTDS footprint) between Feb and June 2025\n",
    "astrometric microlensing\n",
    "proper motion epochs\n",
    "lens/source flux measurements\n",
    "Sean is trying to get a larger coverage % before WFC3 and ACS get shut down (Nataf is working on these proposals too)\n"
   ]
  },
  {
   "cell_type": "markdown",
   "metadata": {},
   "source": []
  }
 ],
 "metadata": {
  "language_info": {
   "name": "python"
  }
 },
 "nbformat": 4,
 "nbformat_minor": 2
}

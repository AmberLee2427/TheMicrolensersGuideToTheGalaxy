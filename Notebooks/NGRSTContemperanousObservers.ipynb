{
 "cells": [
  {
   "cell_type": "markdown",
   "metadata": {},
   "source": [
    "*The recommended prerequisite for this notebook is [NGRST](NGRST.ipynb).*"
   ]
  },
  {
   "cell_type": "code",
   "execution_count": 1,
   "metadata": {},
   "outputs": [],
   "source": [
    "# package imports (SHIFT + ENTER to run)"
   ]
  },
  {
   "cell_type": "markdown",
   "metadata": {},
   "source": [
    "# Contemperanous observers (in development)\n",
    "\n",
    "<style>\n",
    ".exercise {\n",
    "    background-color: #E0E0E0;\n",
    "    border-left: 8px solid #808080;\n",
    "    padding: 10px 0 10px 20px;  /* top, right, bottom, left */\n",
    "    margin: 20px 5px;  \n",
    "    box-sizing: border-box;  \n",
    "}\n",
    ".exercise h2 {\n",
    "    color: #808080;\n",
    "    font-size: 24px;\n",
    "}\n",
    ".exercise p {\n",
    "    margin: 0 20px;  /* Adjust this value to add space after the paragraph */\n",
    "}\n",
    "</style>\n",
    "\n",
    "<div class=\"exercise\">\n",
    "    <h2>Exercise x</h2>\n",
    "    <p>Instruction.</p>\n",
    "    <br>\n",
    "    <p><i>Note.</i></p>\n",
    "    <br>\n",
    "</div>\n",
    "\n",
    "> Footnote-like aside\n",
    "\n",
    "<h5> <ul> <i>\"Quotes.\" - Author</i> </ul> </h5>"
   ]
  },
  {
   "cell_type": "markdown",
   "metadata": {},
   "source": [
    "## Prime\n",
    "opening ceremony is after the microlensing conference (details are up on website)\n",
    "- fast telescope, fast dome (recent upgrade, June 2024)\n",
    "- GB survey started July 2023\n",
    "- wide angle\n",
    "- 35 field (51^2 deg)\n",
    "- 100s exp\n",
    "- 4min for 12 exposures \n",
    "- cadnece was 3-4/ night, now 5-6?\n",
    "- H band\n",
    "- Some overlap with MOA fields\n",
    "- Reduction pipeline still in progress (0ct 2024)\n",
    "- all sky on off-bulge season to make reff images for ToO\n",
    "(Taka Sumi, RGESPit F2F, Oct 2024)\n",
    "\n",
    "## Subaru\n",
    "- very low mass FFP? (check slide 1)\n",
    "- Hawaii\n",
    "- 116 2k4k ccds\n",
    "- Filters: grizy and narrow band (good synergy with Roman)\n",
    "- 8m (good for high ext. fields that Roman will observe)\n",
    "- making an extinction map (important for simulating images - employ asap)\n",
    "- sumi (2023) mass function; check with high cadence subaru (planned work)\n",
    "- instruments\n",
    "    - HSC (are the replacing this ?)\n",
    "    - PFS (dark)\n",
    "    - ultimate (bright)\n",
    "        -14 arcmin x 114 arcmin FOV\n",
    "    - IRC and SCExAo from 2027 (bright)\n",
    "- [] needs a simulation to work out the number off FFPs with detectable parallax from Subaru (deadline for subaru proposal is march\n",
    "        - was he talking about FFPs here, or was I imagining it?\n",
    "        - need observing details (20 nights, 10 hrs, ...)\n",
    "- [] implement Suzuki's extinction map\n",
    "        - get some preliminary data (proably a Macey job to implement)\n",
    "(Daisuki Sazuki, RGESPit F2F, Oct 2024)\n",
    "\n",
    "## HST\n",
    "Approved for Cycle 32\n",
    "Early Roman field epochs\n",
    "WFC3 + ACS, 117 orbits (40% of GBTDS footprint) between Feb and June 2025\n",
    "astrometric microlensing\n",
    "proper motion epochs\n",
    "lens/source flux measurements\n",
    "Sean is trying to get a larger coverage % before WFC3 and ACS get shut down (Nataf is working on these proposals too)\n"
   ]
  },
  {
   "cell_type": "markdown",
   "metadata": {},
   "source": []
  }
 ],
 "metadata": {
  "kernelspec": {
   "display_name": "TheGuide",
   "language": "python",
   "name": "python3"
  },
  "language_info": {
   "codemirror_mode": {
    "name": "ipython",
    "version": 3
   },
   "file_extension": ".py",
   "mimetype": "text/x-python",
   "name": "python",
   "nbconvert_exporter": "python",
   "pygments_lexer": "ipython3",
   "version": "3.8.19"
  }
 },
 "nbformat": 4,
 "nbformat_minor": 2
}

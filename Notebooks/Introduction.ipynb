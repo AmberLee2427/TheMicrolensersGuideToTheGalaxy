{
 "cells": [
  {
   "cell_type": "markdown",
   "metadata": {},
   "source": [
    "# Introduction"
   ]
  },
  {
   "cell_type": "markdown",
   "metadata": {},
   "source": []
  },
  {
   "cell_type": "markdown",
   "metadata": {},
   "source": [
    "Hello Microlenser. I am your Guide. \n",
    "\n",
    "I'll keep this introduction brief, incase you are shot on time. \n",
    "\n",
    "This notebook is going to take a liesurely stroll through the basic concepts of microlensing. This topic is complex and has a lot of naunce, so I propose we first cover some of the basics and background information, the stuff that doesn't make us want to bang our heads against the wall, and get to know each other a little. But if that doesn't sound like somthing you want to do, I'm not offended; I'm a notebook. \n",
    "\n",
    "Below is a list of the concepts we will cover here. Feel free to skip to whatever point makes you feel good. Or skip this whole notebook by going straight to the Next Steps section."
   ]
  },
  {
   "cell_type": "markdown",
   "metadata": {},
   "source": [
    "## Contents\n",
    "- [What is Microlensing?](#what-is-microlensing)\n",
    "- [What is it used for?](#what-is-it-used-for)\n",
    "  - [Exoplanets](#exoplanets)\n",
    "  - [Brown Dwarf](#brown-dwarf)\n",
    "  - [Black Holes and other Remnants](#black-holes-and-other-remnants)\n",
    "  - [Stellar Population Models](#stellar-population-models)\n",
    "  - [Dark Matter](#dark-matter)\n",
    "- [Microlensing Eras](#microlensing-eras)\n",
    "- [Next Steps](#next-steps)\n",
    "\n"
   ]
  },
  {
   "cell_type": "markdown",
   "metadata": {},
   "source": [
    "Great. Now that they're gone, let's meander a bit. This notebook will make use of a variety of media to keep it accessable and interesting for all users, as seen in the following section. And if you need some motivation, or dopamine throughout, take a look at the sections checklist where you can tick of sections for this notebook as you complete them."
   ]
  },
  {
   "cell_type": "markdown",
   "metadata": {},
   "source": [
    "<a id=\"what-is-microlensing\"></a>\n",
    "### What is Microlensing?\n",
    "\n"
   ]
  },
  {
   "cell_type": "markdown",
   "metadata": {},
   "source": [
    "<a id=\"what-is-it-used-for\"></a>\n",
    "### What is it used for?"
   ]
  },
  {
   "cell_type": "markdown",
   "metadata": {},
   "source": [
    "<a id=\"exoplanets\"></a>\n",
    "#### Exoplanets\n"
   ]
  },
  {
   "cell_type": "markdown",
   "metadata": {},
   "source": [
    "<a id=\"brown-dwarf\"></a>\n",
    "#### Brown Dwarf\n"
   ]
  },
  {
   "cell_type": "markdown",
   "metadata": {},
   "source": [
    "<a id=\"black-holes-and-other-remnants\"></a>\n",
    "#### Black Holes and other Remnants\n"
   ]
  },
  {
   "cell_type": "markdown",
   "metadata": {},
   "source": [
    "<a id=\"stellar-population-models\"></a>\n",
    "#### Stellar Population Models\n"
   ]
  },
  {
   "cell_type": "markdown",
   "metadata": {},
   "source": [
    "<a id=\"dark-matter\"></a>\n",
    "#### Dark Matter\n",
    "\n"
   ]
  },
  {
   "cell_type": "markdown",
   "metadata": {},
   "source": [
    "<a id=\"microlensing-eras\"></a>\n",
    "### Microlensing Eras\n"
   ]
  },
  {
   "cell_type": "markdown",
   "metadata": {},
   "source": [
    "<a id=\"next-steps\"></a>\n",
    "### Next Steps"
   ]
  },
  {
   "cell_type": "markdown",
   "metadata": {},
   "source": [
    "Oh hey, you're finished! Well done. \n",
    "\n",
    "\n",
    "\n"
   ]
  },
  {
   "cell_type": "markdown",
   "metadata": {},
   "source": [
    "The next notebook I recommend you try is:\n",
    "\n",
    "- [Microlensing Geometries - Amber and Scott](microlensingGeometries.ipynb)\n",
    "\n",
    "But these would also be good choices:\n",
    "- Higher-Order Effects - Amber and Scott \n",
    "- Data Reduction - Michael\n",
    "- Simulations - Samson\n",
    "- Modelling - Amber\n",
    "- The Galactic Model - Macey\n",
    "- The Nancy Grace Roman Space Telescope - Scott\n",
    "\n",
    "If none of those tickle you fancy, try picking any one of the other notebooks within the `notebook` directory. "
   ]
  },
  {
   "cell_type": "markdown",
   "metadata": {},
   "source": []
  }
 ],
 "metadata": {
  "language_info": {
   "name": "python"
  }
 },
 "nbformat": 4,
 "nbformat_minor": 2
}

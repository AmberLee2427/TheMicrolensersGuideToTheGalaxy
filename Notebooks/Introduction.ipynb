{
 "cells": [
  {
   "cell_type": "markdown",
   "metadata": {},
   "source": [
    "# Introduction"
   ]
  },
  {
   "cell_type": "code",
   "execution_count": 1,
   "metadata": {},
   "outputs": [],
   "source": [
    "# Run me before beginning the exercises.\n",
    "\n",
    "import numpy as np\n",
    "import matplotlib.pyplot as plt\n",
    "from matplotlib.patches import Circle"
   ]
  },
  {
   "cell_type": "markdown",
   "metadata": {},
   "source": [
    "Hello Microlenser. I am your Guide. \n",
    "\n",
    "I'll keep this introduction brief, incase you are short on time. \n",
    "\n",
    "This notebook is going to take a liesurely stroll through the basic concepts of microlensing. This topic is complex and has a lot of naunce, so I propose we first cover some of the basics and background information, the stuff that doesn't make us want to bang our heads against the wall, and get to know each other a little. But if that doesn't sound like somthing you want to do, I'm not offended; I'm a notebook. \n",
    "\n",
    "Below is a list of the concepts we will cover here. Feel free to skip to whatever point makes you feel good. Or skip this whole notebook by going straight to the Next Steps section."
   ]
  },
  {
   "cell_type": "markdown",
   "metadata": {},
   "source": [
    "## Contents\n",
    "- [What is Microlensing?](#what-is-microlensing)\n",
    "- [What is it used for?](#what-is-it-used-for)\n",
    "  - [Exoplanets](#exoplanets)\n",
    "  - [Brown Dwarf](#brown-dwarf)\n",
    "  - [Black Holes and other Remnants](#black-holes-and-other-remnants)\n",
    "  - [Stellar Population Models](#stellar-population-models)\n",
    "  - [Dark Matter](#dark-matter)\n",
    "- [Microlensing Eras](#microlensing-eras)\n",
    "- [Next Steps](#next-steps)\n",
    "\n"
   ]
  },
  {
   "cell_type": "markdown",
   "metadata": {},
   "source": [
    "Great. Now that they're gone, let's meander a bit. This notebook will make use of a variety of media to keep it accessable and interesting for all users, as seen in the following section. And if you need some motivation, or dopamine throughout, take a look at the [checklist tool](http://localhost:8866/ProgressChecklist.ipynb) where you can tick of sections for this notebook as you complete them.\n",
    "\n"
   ]
  },
  {
   "cell_type": "markdown",
   "metadata": {},
   "source": [
    "Gravitational lensing is a strange and fascinating phenomenon in astrophysics and a uniquely powerful tool for unveiling the secrets of the universe.  At its core, this phenomenon is rooted in Einstein's theory of general relativity. It occurs when the gravity of massive objects, such as galaxies, stars, planets, or dark matter, curves spacetime, distorting the path travelled by light as it passes by, as if the light were passing through a **lens**. This can make the objects producing this light (the **source**s) appear to be in locations they are not and as shapes they are not. If the visible source is approximately behind a simple lensing mass, as seen by an observer, the source will be observed as a magnified image, or images, of itself. These images will form about the [Einstein ring](https://www.google.com/url?sa=t&source=web&rct=j&opi=89978449&url=https://en.wikipedia.org/wiki/Einstein_ring&ved=2ahUKEwiFh_et4OOIAxU578kDHTPhAYwQFnoECBYQAQ&usg=AOvVaw2L-WOWW_yeDFzWYp_JfVWT) and will often appear stretched and curved. The radius of this ring, $\\tilde{r}_E$, is dependent on the mass of the lens; a greater mass results in a larger Einstein ring.\n"
   ]
  },
  {
   "cell_type": "markdown",
   "metadata": {},
   "source": [
    "The angular Einstein radius is defined by,\n",
    "\n",
    "$$\n",
    "    \\begin{matrix}\n",
    "        \\theta_{\\rm E} & =\\left( \\frac{4GM_{\\rm L}}{c^2} \\frac{D_{\\rm LS}}{D_{\\rm L} D_{\\rm S}} \\right){\\frac{1}{2}}\\\\\n",
    "        & =\\sqrt{M_{\\rm L}\\kappa\\pi_{rel}},\n",
    "    \\end{matrix}\n",
    "$$\n",
    "\n",
    "where $M_{\\rm L}$ is the total mass of the lens system, $D_{\\rm LS}$ is the distance from the lens plane to the source plane, $D_{\\rm L}$ is the distance from the observer to the lens plane, $D_{\\rm S}$ is the distance from the observer to the source plane, and $\\kappa=4G/(c^2\\rm{au})\\sim8.14 \\, \\rm{mas}/M_\\odot$. \n",
    "\n",
    "We refer you to [Microlensing Source](https://www.microlensing-source.org/tutorial/pspl/) for a detailed explanation of how this Einstein ring equation in derived. "
   ]
  },
  {
   "cell_type": "markdown",
   "metadata": {},
   "source": [
    "This ring is a mathematical construct, but the figures below shows some pretty examples of the Einstein ring being observed as it traced out by source images during gravitational lensing events.\n",
    "\n",
    "Add HST images"
   ]
  },
  {
   "cell_type": "markdown",
   "metadata": {},
   "source": [
    "Here is a cozy little youtube video to get us in to the mood for learning about microlensing  (and also check the i'm running correctly).\n",
    "\n",
    "<p align=\"center\">\n",
    "<iframe width=\"560\" height=\"315\" src=\"https://www.youtube.com/embed/VeAVmp9MLH4?si=MjOr5LkFwukX_I1w\" title=\"YouTube video player\" frameborder=\"0\" allow=\"accelerometer; clipboard-write; encrypted-media; gyroscope; picture-in-picture; web-share\" referrerpolicy=\"strict-origin-when-cross-origin\" allowfullscreen> </iframe>\n",
    "</p>"
   ]
  },
  {
   "cell_type": "markdown",
   "metadata": {},
   "source": [
    "The above video may not work for you if you are using an [IDE](https://www.google.com/url?sa=t&source=web&rct=j&opi=89978449&url=https://en.wikipedia.org/wiki/Integrated_development_environment&ved=2ahUKEwjT2_uJ4OOIAxU1MNAFHU52DUAQFnoECBgQAQ&usg=AOvVaw26G_hSQrwphgc0qRbOs_Ur). Try clicking this [link](https://www.youtube.com/watch?v=VeAVmp9MLH4) to open it in a browser.\n",
    "\n",
    "If you are still having issues, consider openning this notebook in a browser by running\n",
    "\n",
    "```bash\n",
    "(TheGuide) Notebooks$ jupyter notebook\n",
    "```\n",
    "\n",
    "from the Notebooks directory."
   ]
  },
  {
   "cell_type": "markdown",
   "metadata": {},
   "source": [
    "<a id=\"what-is-microlensing\"></a>\n",
    "### What is Microlensing?\n",
    "\n"
   ]
  },
  {
   "cell_type": "markdown",
   "metadata": {},
   "source": [
    "Microlensing is a specific example of gravitational lensing, where the apparent separation of the lensed images is small enough (i.e., microarcseconds) that they cannot be resolved into individual images with current technology. \n",
    "\n",
    "In photometric observations, this means that the entire [\"strong\" lensing effect](https://www.google.com/url?sa=t&source=web&rct=j&opi=89978449&url=https://simple.wikipedia.org/wiki/Gravitational_lensing%23Strong_lensing&ved=2ahUKEwjsyb_F3-OIAxXxHNAFHaaTLZMQ0gIoAXoECBcQAg&usg=AOvVaw0tyN7JqdXk--HO8mbR53fG) is contained within what appears to be a single star or [point-spread function (PSF)](https://www.google.com/url?sa=t&source=web&rct=j&opi=89978449&url=https://en.wikipedia.org/wiki/Point_spread_function&ved=2ahUKEwjlstDo3-OIAxVLLtAFHVG-FWYQFnoECAkQAQ&usg=AOvVaw2xNwJtwWWTn-egxItIx4sM). The lensing can instead be observed because of the changing magnification and number of source-star images creating variations in brightness. The brightness increase is transient in nature as the lens and source are moving relative to each other. This effect is called photometric microlensing. "
   ]
  },
  {
   "cell_type": "markdown",
   "metadata": {},
   "source": [
    "<p align=center>\n",
    "<iframe width=\"560\" height=\"315\" src=\"https://www.youtube.com/embed/z75aHv9SpVg?si=pkcW9WrT226AkEfh\" title=\"YouTube video player\" frameborder=\"0\" allow=\"accelerometer; autoplay; clipboard-write; encrypted-media; gyroscope; picture-in-picture; web-share\" referrerpolicy=\"strict-origin-when-cross-origin\" allowfullscreen></iframe>\n",
    "</p>\n",
    "\n",
    "> *In bouts of flagrant hubris, unbecoming of a notebook, I will often refer to photometric microlensing as simply microlensing. Astrometric microlensing is a topic left out in the cold for the duration of this notebook. But should you wish to visit it and ensure it feels loved, you can do so [here](AstrometricMicrolensing.ipynb).*"
   ]
  },
  {
   "cell_type": "markdown",
   "metadata": {},
   "source": [
    "If we could see the magnified images in a microlensing event forming, they would scoot around paths that trace out the Einstein ring. The event would look something like [this](https://www.youtube.com/embed/2oIvUd0hdKY?si=0IDzw_rL1Q3Ml2KL):\n",
    "\n",
    "<p align=center>\n",
    "<iframe width=\"560\" height=\"315\" src=\"https://www.youtube.com/embed/2oIvUd0hdKY?si=0IDzw_rL1Q3Ml2KL\" title=\"YouTube video player\" frameborder=\"0\" allow=\"accelerometer; autoplay; clipboard-write; encrypted-media; gyroscope; picture-in-picture; web-share\" referrerpolicy=\"strict-origin-when-cross-origin\" allowfullscreen></iframe>\n",
    "</p>"
   ]
  },
  {
   "cell_type": "markdown",
   "metadata": {},
   "source": [
    "Theoretical peak magnification $A_{\\rm peak}$, for a simple microlensing event, occurs when the lens and source are most closely aligned, with an angular separation of $u_0$, at time $t_0$. The intensity of an event's $A_{\\rm peak}$ depends on how closely the source aligns with the lens (i.e., how small $u_0$ is) and the angular size ($\\rho$) of the source, proportional to the angular size of the Einstein ring, $\\theta_{\\rm E}$. The time taken to shift lens-source relative positions by $\\theta_{\\rm E}$ is $t_{\\rm E}$, which is a proxy for lens-source relative proper motion. "
   ]
  },
  {
   "cell_type": "markdown",
   "metadata": {},
   "source": [
    "This angular-separation dependence of the magnification is demonstrated in this figure. \n",
    "\n",
    "| ![SL](./Assets/single_trajectories_FS.png) |\n",
    "| :-: |\n",
    "| *Left:* Example trajectory diagram in the lens plane, showing set of source trajectories (purple) with varying $u_0$. The lens object position is plotted as a red, filled circle. The scale of the caustic diagram is in units of $\\theta_{\\rm E}$, and the Einstein ring, about which source images form, is indicated by the dashed grey circle. The angular source size ($\\rho=0.05$) and relative trajectory direction are indicated by the circle and arrow on the trajectory lines, respectively. *Right:* Corresponding magnification curves, given the trajectories shown on the diagram (*left*), where $\\tau$ is the time, relative to $t_0$, scaled by $t_{\\rm E}$. |\n",
    "\n",
    "A larger $u_0$ means a lower $A_{\\rm peak}$ and larger $\\rho$ means the magnification curve is more smoothed. This smoothing is termed the ``finite-source effect.'' Theoretically, for a point source ($\\rho=0$), $A_{\\rm peak}=\\infty$ if $u_0=0$. The basic shape of the lightcurves of these point-source-like events is referred to as a Paczynski curve.\n",
    "\n",
    "If none of that sunk in, don't worry. You start to get a feel for it as we move through some examples."
   ]
  },
  {
   "cell_type": "markdown",
   "metadata": {},
   "source": [
    "The slider below alows you to change the physical parameters of a lensing \"event\" to see how these changes affect the size of the einstein ring."
   ]
  },
  {
   "cell_type": "code",
   "execution_count": 31,
   "metadata": {},
   "outputs": [],
   "source": [
    "def theta_E(M: float, Ds: float, Dl: float) -> float:\n",
    "    \"\"\"\n",
    "    Calculate the Einstein radius of a lensing system.\n",
    "\n",
    "    ----------\n",
    "    Parameters\n",
    "    ----------\n",
    "    M : float\n",
    "        Mass of the lens\n",
    "    Ds : float\n",
    "        Distance to the source in kpc\n",
    "    Dl : float\n",
    "        Distance to the lens in kpc\n",
    "    \n",
    "    ----------\n",
    "    Returns\n",
    "    ----------\n",
    "    float\n",
    "        Einstein radius in milliarcseconds\n",
    "    \n",
    "    ----------\n",
    "    Notes\n",
    "    ----------\n",
    "    The Einstein radius is calculated as:\n",
    "    ``` math::\n",
    "    theta_E = sqrt(4 * G * M / c^2 * (1.0 / Dl - 1.0 / Ds)\n",
    "    ```\n",
    "    where\n",
    "    - G is the gravitational constant\n",
    "    - M is the mass of the lens\n",
    "    - c is the speed of light\n",
    "    - Ds is the distance to the source\n",
    "    - Dl is the distance to the lens\n",
    "\n",
    "    \"\"\"\n",
    "    # Constants\n",
    "    kappa = 8.144  # mas/M_Sun\n",
    "    kappa_mu = kappa*1000  # muas/M_Sun\n",
    "    as_muas = 1.0*1000000.0  # 1 as in muas\n",
    "\n",
    "\n",
    "    # Calculate Einstein radius\n",
    "    pirel_as = (1./(Dl*1000)-1.0/(Ds*1000))\n",
    "    pirel_muas = pirel_as*as_muas\n",
    "    print(pirel_as, pirel_muas)\n",
    "    return np.sqrt(kappa * M * pirel_as)\n",
    "    #return np.sqrt(kappa_mu * M * pirel_muas)"
   ]
  },
  {
   "cell_type": "code",
   "execution_count": 33,
   "metadata": {},
   "outputs": [
    {
     "name": "stdout",
     "output_type": "stream",
     "text": [
      "[8.33333333e-05 1.07142857e-04 1.25000000e-04 1.38888889e-04\n",
      " 1.50000000e-04] [ 83.33333333 107.14285714 125.         138.88888889 150.        ]\n",
      "[0.02605123 0.02953932 0.03190611 0.033632   0.03495139]\n"
     ]
    },
    {
     "data": {
      "application/vnd.jupyter.widget-view+json": {
       "model_id": "d6b9c5b8390e486a88007e61acf74dc8",
       "version_major": 2,
       "version_minor": 0
      },
      "image/png": "[encoded data removed]",
      "text/html": [
       "\n",
       "            <div style=\"display: inline-block;\">\n",
       "                <div class=\"jupyter-widgets widget-label\" style=\"text-align: center;\">\n",
       "                    Figure\n",
       "                </div>\n",
       "                <img src='data:image/png;base64,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' width=800.0/>\n",
       "            </div>\n",
       "        "
      ],
      "text/plain": [
       "Canvas(toolbar=Toolbar(toolitems=[('Home', 'Reset original view', 'home', 'home'), ('Back', 'Back to previous …"
      ]
     },
     "metadata": {},
     "output_type": "display_data"
    }
   ],
   "source": [
    "# Example data\n",
    "M = 1.0  # Mass of the lens in solar masses\n",
    "Ds = np.array([6.0, 7.0, 8.0, 9.0, 10.0])  # Distance to the source in kpc\n",
    "Dl = 4.0  # Distance to the lens in kpc\n",
    "\n",
    "# Calculate Einstein radius for each Ds\n",
    "theta_E_values = theta_E(M, Ds, Dl)\n",
    "print(theta_E_values)\n",
    "\n",
    "# Enable interactive mode\n",
    "%matplotlib widget\n",
    "\n",
    "# Create the plot\n",
    "fig, ax = plt.subplots(figsize=(8, 8))\n",
    "fig.patch.set_facecolor('black')  # Set the figure background color to black\n",
    "\n",
    "# Plot the circles\n",
    "for theta_E_value in theta_E_values:\n",
    "    circle = Circle((0, 0), 0.2, edgecolor='white', facecolor='none', alpha=0.25)\n",
    "    ax.add_patch(circle)\n",
    "\n",
    "# Plot an exaggerated star to represent the lens\n",
    "star = Circle((0, 0), 0.01*M, edgecolor='yellow', facecolor='white') \n",
    "ax.add_patch(star)\n",
    "\n",
    "# Set plot background and text colors\n",
    "ax.set_facecolor('black')\n",
    "ax.spines['bottom'].set_color('white')\n",
    "ax.spines['top'].set_color('white')\n",
    "ax.spines['right'].set_color('white')\n",
    "ax.spines['left'].set_color('white')\n",
    "ax.tick_params(axis='x', colors='white')\n",
    "ax.tick_params(axis='y', colors='white')\n",
    "ax.yaxis.label.set_color('white')\n",
    "ax.xaxis.label.set_color('white')\n",
    "ax.title.set_color('white')\n",
    "\n",
    "# Set labels and title\n",
    "ax.set_xlabel(r'$u_1$ (mas)')\n",
    "ax.set_ylabel(r'$u_2$ (mas)')\n",
    "ax.set_title('Einstein Ring Size')\n",
    "\n",
    "# Add a white grid\n",
    "ax.grid(True, color='darkgrey', alpha=0.5)\n",
    "\n",
    "# Set axis to be equal\n",
    "ax.set_aspect('equal', adjustable='box')\n",
    "\n",
    "# Set the limits to be ± twice the largest theta_E value\n",
    "max_theta_E = max(theta_E_values)\n",
    "#ax.set_ylim(-0.4, 0.4)\n",
    "#ax.set_xlim(-0.4, 0.4)\n",
    "ax.set_xlim(-2 * max_theta_E, 2 * max_theta_E)\n",
    "ax.set_ylim(-2 * max_theta_E, 2 * max_theta_E)\n",
    "\n",
    "# Show the plot\n",
    "plt.show()"
   ]
  },
  {
   "cell_type": "code",
   "execution_count": 27,
   "metadata": {},
   "outputs": [
    {
     "name": "stdout",
     "output_type": "stream",
     "text": [
      "Einstein Radius: 0.000000000000000 mas\n"
     ]
    }
   ],
   "source": [
    "import numpy as np\n",
    "\n",
    "def theta_E(M: float, d_L: float, d_S: float) -> float:\n",
    "    \"\"\"\n",
    "    Calculate the Einstein radius of a lensing system in milliarcseconds (mas).\n",
    "\n",
    "    ----------\n",
    "    Parameters\n",
    "    ----------\n",
    "    M : float\n",
    "        Mass of the lens in solar masses\n",
    "    d_L : float\n",
    "        Distance to the lens in kiloparsecs\n",
    "    d_S : float\n",
    "        Distance to the source in kiloparsecs\n",
    "    \n",
    "    ----------\n",
    "    Returns\n",
    "    ----------\n",
    "    float\n",
    "        Einstein radius in milliarcseconds (mas)\n",
    "    \n",
    "    ----------\n",
    "    Notes\n",
    "    ----------\n",
    "    The Einstein radius is calculated as:\n",
    "    theta_E = sqrt((4 * G * M / c^2) * (d_S - d_L) / (d_L * d_S))\n",
    "    where\n",
    "    - G is the gravitational constant in m^3 M_sun^-1 s^-2\n",
    "    - M is the mass of the lens in solar masses\n",
    "    - c is the speed of light in m/s\n",
    "    - d_L is the distance to the lens in kiloparsecs\n",
    "    - d_S is the distance to the source in kiloparsecs\n",
    "    \"\"\"\n",
    "    # Constants\n",
    "    G_solar_masses = 3.362262e-41  # m^3 M_sun^-1 s^-2\n",
    "    c = 299792458  # m/s\n",
    "    kpc_to_m = 3.085677581e19  # 1 kpc in meters\n",
    "    arcsec_to_mas = 206265 * 1000  # 1 arcsecond in milliarcseconds\n",
    "\n",
    "    # Convert distances from kiloparsecs to meters\n",
    "    d_L_m = d_L * kpc_to_m\n",
    "    d_S_m = d_S * kpc_to_m\n",
    "\n",
    "    # Calculate the Einstein radius in radians\n",
    "    theta_E_rad = np.sqrt((4 * G_solar_masses * M / c**2) * (d_S_m - d_L_m) / (d_L_m * d_S_m))\n",
    "\n",
    "    # Convert the Einstein radius from radians to milliarcseconds\n",
    "    theta_E_mas = theta_E_rad * arcsec_to_mas\n",
    "\n",
    "    return theta_E_mas\n",
    "\n",
    "# Example usage\n",
    "M = 1.0  # Mass of the lens in solar masses\n",
    "d_L = 5.0  # Distance to the lens in kiloparsecs\n",
    "d_S = 8.0  # Distance to the source in kiloparsecs\n",
    "\n",
    "einstein_radius = theta_E(M, d_L, d_S)\n",
    "print(f\"Einstein Radius: {einstein_radius:.15f} mas\")"
   ]
  },
  {
   "cell_type": "markdown",
   "metadata": {},
   "source": [
    "<a id=\"what-is-it-used-for\"></a>\n",
    "### What is it used for?"
   ]
  },
  {
   "cell_type": "markdown",
   "metadata": {},
   "source": [
    "<a id=\"exoplanets\"></a>\n",
    "#### Exoplanets\n"
   ]
  },
  {
   "cell_type": "markdown",
   "metadata": {},
   "source": [
    "<a id=\"brown-dwarf\"></a>\n",
    "#### Brown Dwarf\n"
   ]
  },
  {
   "cell_type": "markdown",
   "metadata": {},
   "source": [
    "<a id=\"black-holes-and-other-remnants\"></a>\n",
    "#### Black Holes and other Remnants\n"
   ]
  },
  {
   "cell_type": "markdown",
   "metadata": {},
   "source": [
    "<a id=\"stellar-population-models\"></a>\n",
    "#### Stellar Population Models\n"
   ]
  },
  {
   "cell_type": "markdown",
   "metadata": {},
   "source": [
    "<a id=\"dark-matter\"></a>\n",
    "#### Dark Matter\n",
    "\n"
   ]
  },
  {
   "cell_type": "markdown",
   "metadata": {},
   "source": [
    "<a id=\"microlensing-eras\"></a>\n",
    "### Microlensing Eras\n"
   ]
  },
  {
   "cell_type": "markdown",
   "metadata": {},
   "source": [
    "<a id=\"next-steps\"></a>\n",
    "### Next Steps"
   ]
  },
  {
   "cell_type": "markdown",
   "metadata": {},
   "source": [
    "Oh hey, you're finished! Well done. \n",
    "\n",
    "\n",
    "\n"
   ]
  },
  {
   "cell_type": "markdown",
   "metadata": {},
   "source": [
    "The next notebook I recommend you try is:\n",
    "\n",
    "- [Microlensing Geometries - Amber and Scott](microlensingGeometries.ipynb)\n",
    "\n",
    "But these would also be good choices:\n",
    "- Higher-Order Effects - Amber and Scott \n",
    "- Data Reduction - Michael\n",
    "- Simulations - Samson\n",
    "- Modelling - Amber\n",
    "- The Galactic Model - Macey\n",
    "- The Nancy Grace Roman Space Telescope - Scott\n",
    "\n",
    "If none of those tickle you fancy, try picking any one of the other notebooks within the `notebook` directory. "
   ]
  },
  {
   "cell_type": "markdown",
   "metadata": {},
   "source": []
  }
 ],
 "metadata": {
  "kernelspec": {
   "display_name": "Python 3 (ipykernel)",
   "language": "python",
   "name": "python3"
  },
  "language_info": {
   "codemirror_mode": {
    "name": "ipython",
    "version": 3
   },
   "file_extension": ".py",
   "mimetype": "text/x-python",
   "name": "python",
   "nbconvert_exporter": "python",
   "pygments_lexer": "ipython3",
   "version": "3.8.19"
  }
 },
 "nbformat": 4,
 "nbformat_minor": 4
}

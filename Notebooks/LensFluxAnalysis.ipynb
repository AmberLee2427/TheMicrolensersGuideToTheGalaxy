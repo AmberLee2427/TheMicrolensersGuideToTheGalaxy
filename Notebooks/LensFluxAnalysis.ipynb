{
 "cells": [
  {
   "cell_type": "markdown",
   "metadata": {},
   "source": [
    "*The recommended prerequisites for this notebook are the [Single Lens](SingleLens.ipynb) and [Physical Parameters](PhysicalParameters.ipynb) notebooks.*"
   ]
  },
  {
   "cell_type": "code",
   "execution_count": 1,
   "metadata": {},
   "outputs": [],
   "source": [
    "# package imports (SHIFT + ENTER to run)\n",
    "from IPython.display import YouTubeVideo"
   ]
  },
  {
   "cell_type": "markdown",
   "metadata": {},
   "source": [
    "# Lens flux analysis (in development)\n",
    "\n",
    "<style>\n",
    ".exercise {\n",
    "    background-color: #E0E0E0;\n",
    "    border-left: 8px solid #808080;\n",
    "    padding: 10px 0 10px 20px;  /* top, right, bottom, left */\n",
    "    margin: 20px 5px;  \n",
    "    box-sizing: border-box;  \n",
    "}\n",
    ".exercise h2 {\n",
    "    color: #808080;\n",
    "    font-size: 24px;\n",
    "}\n",
    ".exercise p {\n",
    "    margin: 0 20px;  /* Adjust this value to add space after the paragraph */\n",
    "}\n",
    "</style>\n",
    "\n",
    "<div class=\"exercise\">\n",
    "    <h2>Exercise x</h2>\n",
    "    <p>Instruction.</p>\n",
    "    <br>\n",
    "    <p><i>Note.</i></p>\n",
    "    <br>\n",
    "</div>\n",
    "\n",
    "> Footnote-like aside\n",
    "\n",
    "<h5> <ul> <i>\"Quotes.\" - Author</i> </ul> </h5>"
   ]
  },
  {
   "cell_type": "code",
   "execution_count": null,
   "metadata": {},
   "outputs": [
    {
     "data": {
      "image/jpeg": "[encoded data removed]",
      "text/html": [
       "\n",
       "        <iframe\n",
       "            width=\"560\"\n",
       "            height=\"315\"\n",
       "            src=\"https://www.youtube.com/embed/LIqq0PXwaGE\"\n",
       "            frameborder=\"0\"\n",
       "            allowfullscreen\n",
       "            \n",
       "        ></iframe>\n",
       "        "
      ],
      "text/plain": [
       "<IPython.lib.display.YouTubeVideo at 0x1074ec880>"
      ]
     },
     "execution_count": 1,
     "metadata": {},
     "output_type": "execute_result"
    }
   ],
   "source": [
    "YouTubeVideo('LIqq0PXwaGE', width=560, height=315)"
   ]
  }
 ],
 "metadata": {
  "kernelspec": {
   "display_name": "TheGuide",
   "language": "python",
   "name": "python3"
  },
  "language_info": {
   "codemirror_mode": {
    "name": "ipython",
    "version": 3
   },
   "file_extension": ".py",
   "mimetype": "text/x-python",
   "name": "python",
   "nbconvert_exporter": "python",
   "pygments_lexer": "ipython3",
   "version": "3.8.19"
  }
 },
 "nbformat": 4,
 "nbformat_minor": 2
}

{
 "cells": [
  {
   "cell_type": "markdown",
   "metadata": {},
   "source": [
    "# Progress Checklists\n",
    "\n",
    "This notebook is a compilation of interactable checklist, for you to track you progress through each learning notebook and The Guide, as a whole. "
   ]
  },
  {
   "cell_type": "markdown",
   "metadata": {},
   "source": [
    "make a quickfind table"
   ]
  },
  {
   "cell_type": "markdown",
   "metadata": {},
   "source": [
    "<a id=\"introduction\"></a>\n",
    "## Introduction"
   ]
  },
  {
   "cell_type": "code",
   "execution_count": 4,
   "metadata": {},
   "outputs": [
    {
     "data": {
      "application/vnd.jupyter.widget-view+json": {
       "model_id": "cafa9c54f0de40d6a0210327c3ffffae",
       "version_major": 2,
       "version_minor": 0
      },
      "text/plain": [
       "Output()"
      ]
     },
     "metadata": {},
     "output_type": "display_data"
    },
    {
     "data": {
      "application/javascript": "\n    var cell = document.currentScript.closest('.jp-Cell');\n    var inputArea = cell.querySelector('.jp-InputArea');\n    inputArea.style.display = 'none';\n",
      "text/plain": [
       "<IPython.core.display.Javascript object>"
      ]
     },
     "metadata": {},
     "output_type": "display_data"
    }
   ],
   "source": [
    "# Introduction checklist widget\n",
    "\n",
    "import ipywidgets as widgets\n",
    "from IPython.display import display, Markdown, HTML, Javascript\n",
    "\n",
    "# Create checklist items\n",
    "checklist_items = [\n",
    "    \"Introduction\",\n",
    "    \"What is Microlensing?\",\n",
    "    \"What is it used for?\",\n",
    "    \"Exoplanets\",\n",
    "    \"Brown Dwarf\",\n",
    "    \"Black Holes and other Remnants\",\n",
    "    \"Stellar Population Models\",\n",
    "    \"Dark Matter\",\n",
    "    \"Microlensing Eras\"\n",
    "]\n",
    "\n",
    "# Create checkboxes for each item\n",
    "checkboxes = [widgets.Checkbox(value=False, description=item) for item in checklist_items]\n",
    "\n",
    "# Create a progress bar with a fixed width\n",
    "progress = widgets.FloatProgress(\n",
    "    value=0, min=0, max=len(checkboxes), description='Progress:', bar_style='info',\n",
    "    layout=widgets.Layout(width='70%')\n",
    ")\n",
    "\n",
    "# Create a label to display the percentage\n",
    "percentage_label = widgets.Label(value=\"0%\")\n",
    "\n",
    "# Function to update the progress bar and percentage label\n",
    "def update_progress(change):\n",
    "    checked_count = sum(checkbox.value for checkbox in checkboxes)\n",
    "    progress.value = checked_count\n",
    "    percentage = (checked_count / len(checkboxes)) * 100\n",
    "    percentage_label.value = f\"{percentage:.0f}%\"\n",
    "\n",
    "# Attach the update function to each checkbox\n",
    "for checkbox in checkboxes:\n",
    "    checkbox.observe(update_progress, names='value')\n",
    "\n",
    "# Organize checkboxes with larger indentation\n",
    "indented_checkboxes = [\n",
    "    checkboxes[0],  # Introduction\n",
    "    checkboxes[1],  # What is Microlensing?\n",
    "    checkboxes[2],  # What is it used for?\n",
    "    widgets.HBox([widgets.Box([checkboxes[3]], layout=widgets.Layout(margin='0 0 0 30px'))]),  # Exoplanets (indented)\n",
    "    widgets.HBox([widgets.Box([checkboxes[4]], layout=widgets.Layout(margin='0 0 0 30px'))]),  # Brown Dwarf (indented)\n",
    "    widgets.HBox([widgets.Box([checkboxes[5]], layout=widgets.Layout(margin='0 0 0 30px'))]),  # Black Holes and other Remnants (indented)\n",
    "    widgets.HBox([widgets.Box([checkboxes[6]], layout=widgets.Layout(margin='0 0 0 30px'))]),  # Stellar Population Models (indented)\n",
    "    widgets.HBox([widgets.Box([checkboxes[7]], layout=widgets.Layout(margin='0 0 0 30px'))]),  # Dark Matter (indented)\n",
    "    checkboxes[8]   # Microlensing Eras\n",
    "]\n",
    "\n",
    "# Create an Output widget to hold the progress bar and checkboxes\n",
    "output = widgets.Output()\n",
    "\n",
    "with output:\n",
    "    display(widgets.HBox([progress, percentage_label]))\n",
    "    display(widgets.VBox(indented_checkboxes))\n",
    "\n",
    "# Display the Output widget\n",
    "display(output)\n",
    "\n",
    "# Inject JavaScript to hide the code cell\n",
    "display(Javascript('''\n",
    "    var cell = document.currentScript.closest('.jp-Cell');\n",
    "    var inputArea = cell.querySelector('.jp-InputArea');\n",
    "    inputArea.style.display = 'none';\n",
    "'''))"
   ]
  },
  {
   "cell_type": "code",
   "execution_count": null,
   "metadata": {},
   "outputs": [],
   "source": []
  }
 ],
 "metadata": {
  "kernelspec": {
   "display_name": "TheGuide",
   "language": "python",
   "name": "python3"
  },
  "language_info": {
   "codemirror_mode": {
    "name": "ipython",
    "version": 3
   },
   "file_extension": ".py",
   "mimetype": "text/x-python",
   "name": "python",
   "nbconvert_exporter": "python",
   "pygments_lexer": "ipython3",
   "version": "3.8.19"
  }
 },
 "nbformat": 4,
 "nbformat_minor": 2
}

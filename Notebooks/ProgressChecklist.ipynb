{
 "cells": [
  {
   "cell_type": "code",
   "execution_count": 1,
   "metadata": {},
   "outputs": [],
   "source": [
    "# package imports (SHIFT + ENTER to run)\n",
    "import sys\n",
    "import os\n",
    "\n",
    "# Add the Modules directory to the Python path\n",
    "GUIDE_BASE_DIR = os.path.abspath(os.path.join(os.getcwd(), '..'))\n",
    "sys.path.append(os.path.join(GUIDE_BASE_DIR, 'Modules'))\n",
    "\n",
    "# Import the Checklist module\n",
    "from Checklist import Checklist # type: ignore"
   ]
  },
  {
   "cell_type": "markdown",
   "metadata": {},
   "source": [
    "# Progress checklists\n",
    "\n",
    "This notebook creates interactive checklist, for you to track you progress through each learning notebook and The Guide, as a whole. "
   ]
  },
  {
   "cell_type": "markdown",
   "metadata": {},
   "source": [
    "## Using the Checklist module\n",
    "\n",
    "1. Chose a notebook from the [list of notebooks](#list-of-notebooks). \n",
    "1. Replace the *'notebook'* variable with your chosen notebook string (e.g., *\"Introduction\"*).\n",
    "1. Run the cell (Shift + Enter)"
   ]
  },
  {
   "cell_type": "code",
   "execution_count": 2,
   "metadata": {},
   "outputs": [
    {
     "data": {
      "text/markdown": [
       "## Introduction checklist"
      ],
      "text/plain": [
       "<IPython.core.display.Markdown object>"
      ]
     },
     "metadata": {},
     "output_type": "display_data"
    },
    {
     "data": {
      "application/vnd.jupyter.widget-view+json": {
       "model_id": "e726fbdc7d6a45829852ce392b2bb2ea",
       "version_major": 2,
       "version_minor": 0
      },
      "text/plain": [
       "HBox(children=(FloatProgress(value=3.0, bar_style='info', description='Progress:', layout=Layout(width='70%'),…"
      ]
     },
     "metadata": {},
     "output_type": "display_data"
    },
    {
     "data": {
      "application/vnd.jupyter.widget-view+json": {
       "model_id": "f57641a18fee4b80bd0aeb5b87d77222",
       "version_major": 2,
       "version_minor": 0
      },
      "text/plain": [
       "VBox(children=(HBox(children=(Box(children=(Checkbox(value=False, description='Introduction'),), layout=Layout…"
      ]
     },
     "metadata": {},
     "output_type": "display_data"
    }
   ],
   "source": [
    "notebook = \"Introduction\"\n",
    "Checklist.create_checklist_from_notebook(notebook)"
   ]
  },
  {
   "cell_type": "markdown",
   "metadata": {},
   "source": [
    "You can track your progress through other notebooks by changing the *'notebook'* variable and rerunning the above cell or by adding another *'create_checklist_from_notebook'* call in a new cell (e.g., see below). Your progress through each notebook is being saved in a *.json* file in the `Progress` folder, even if you replace the checklist you are using, in this notebook."
   ]
  },
  {
   "cell_type": "code",
   "execution_count": 3,
   "metadata": {},
   "outputs": [
    {
     "data": {
      "text/markdown": [
       "## Eras checklist"
      ],
      "text/plain": [
       "<IPython.core.display.Markdown object>"
      ]
     },
     "metadata": {},
     "output_type": "display_data"
    },
    {
     "data": {
      "application/vnd.jupyter.widget-view+json": {
       "model_id": "f922001c3f7b41fe89e233a0de69d616",
       "version_major": 2,
       "version_minor": 0
      },
      "text/plain": [
       "HBox(children=(FloatProgress(value=0.0, bar_style='info', description='Progress:', layout=Layout(width='70%'),…"
      ]
     },
     "metadata": {},
     "output_type": "display_data"
    },
    {
     "data": {
      "application/vnd.jupyter.widget-view+json": {
       "model_id": "8c2be9ee842545d288cd7465924896a4",
       "version_major": 2,
       "version_minor": 0
      },
      "text/plain": [
       "VBox(children=(HBox(children=(Box(children=(Checkbox(value=False, description='Microlensing eras (in developme…"
      ]
     },
     "metadata": {},
     "output_type": "display_data"
    }
   ],
   "source": [
    "notebook = \"Eras\"\n",
    "Checklist.create_checklist_from_notebook(notebook)"
   ]
  },
  {
   "cell_type": "markdown",
   "metadata": {},
   "source": [
    "## List of notebooks\n",
    "The following function lists all of the available notebooks and your progress though them."
   ]
  },
  {
   "cell_type": "code",
   "execution_count": 4,
   "metadata": {},
   "outputs": [
    {
     "name": "stdout",
     "output_type": "stream",
     "text": [
      "Available notebooks:\n",
      "--------------------\n",
      "Introduction                                  ( 23% complete)\n",
      "SingleLens                                    (  0% complete)\n",
      "AstrometricMicrolensing                       (  0% complete)\n",
      "Eras                                          (  0% complete)\n",
      "Photometry                                    (  0% complete)\n",
      "BinaryLens                                    (  0% complete)\n",
      "BinarySource                                  (  0% complete)\n",
      "GalacticModel                                 (  0% complete)\n",
      "Modelling                                     (  0% complete)\n",
      "MultipleLens                                  (  0% complete)\n",
      "GULLS                                         (  0% complete)\n",
      "NGRST                                         (  0% complete)\n",
      "NGRSTContemperanousObservers                  (  0% complete)\n",
      "LensFluxAnalysis                              (  0% complete)\n"
     ]
    }
   ],
   "source": [
    "Checklist.list_notebooks() # type: ignore"
   ]
  },
  {
   "cell_type": "code",
   "execution_count": null,
   "metadata": {},
   "outputs": [],
   "source": []
  },
  {
   "cell_type": "markdown",
   "metadata": {},
   "source": []
  }
 ],
 "metadata": {
  "kernelspec": {
   "display_name": "TheGuide",
   "language": "python",
   "name": "python3"
  },
  "language_info": {
   "codemirror_mode": {
    "name": "ipython",
    "version": 3
   },
   "file_extension": ".py",
   "mimetype": "text/x-python",
   "name": "python",
   "nbconvert_exporter": "python",
   "pygments_lexer": "ipython3",
   "version": "3.11.11"
  }
 },
 "nbformat": 4,
 "nbformat_minor": 4
}

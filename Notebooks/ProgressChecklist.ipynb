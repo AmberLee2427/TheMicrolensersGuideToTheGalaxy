{
 "cells": [
  {
   "cell_type": "code",
   "execution_count": 5,
   "metadata": {},
   "outputs": [],
   "source": [
    "import ipywidgets as widgets\n",
    "from IPython.display import display, Markdown, HTML"
   ]
  },
  {
   "cell_type": "markdown",
   "metadata": {},
   "source": [
    "# Progress checklists (in development)\n",
    "\n",
    "This notebook is a compilation of interactable checklist, for you to track you progress through each learning notebook and The Guide, as a whole. "
   ]
  },
  {
   "cell_type": "markdown",
   "metadata": {},
   "source": [
    "<a id=\"introduction\"></a>\n",
    "## Notebooks"
   ]
  },
  {
   "cell_type": "code",
   "execution_count": 6,
   "metadata": {
    "jupyter": {
     "source_hidden": true
    }
   },
   "outputs": [
    {
     "data": {
      "text/markdown": [
       "\n",
       "## Introduction"
      ],
      "text/plain": [
       "<IPython.core.display.Markdown object>"
      ]
     },
     "metadata": {},
     "output_type": "display_data"
    },
    {
     "data": {
      "application/vnd.jupyter.widget-view+json": {
       "model_id": "c878130bfca34f6f87e52d633b3328c9",
       "version_major": 2,
       "version_minor": 0
      },
      "text/plain": [
       "Box(children=(FloatProgress(value=0.0, bar_style='info', description='Progress:', layout=Layout(width='70%'), …"
      ]
     },
     "metadata": {},
     "output_type": "display_data"
    },
    {
     "data": {
      "application/vnd.jupyter.widget-view+json": {
       "model_id": "752e004a61ad4895bda6ec7e7434a019",
       "version_major": 2,
       "version_minor": 0
      },
      "text/plain": [
       "VBox(children=(Checkbox(value=False, description='Introduction'), HBox(children=(Box(children=(Checkbox(value=…"
      ]
     },
     "metadata": {},
     "output_type": "display_data"
    }
   ],
   "source": [
    "# Introduction text\n",
    "intro_text = \"\"\"\n",
    "## Introduction\"\"\"\n",
    "\n",
    "# Display introduction text\n",
    "display(Markdown(intro_text))\n",
    "\n",
    "# Create checklist items\n",
    "checklist_items = [\n",
    "    \"Introduction\",\n",
    "    \"What is microlensing?\",\n",
    "    \"What is it used for?\",\n",
    "    \"Exoplanets\",\n",
    "    \"Brown dwarf\",\n",
    "    \"Black holes and other remnants\",\n",
    "    \"Dark matter\",\n",
    "    \"Microlensing eras\"\n",
    "]\n",
    "\n",
    "# Create checkboxes for each item\n",
    "checkboxes = [widgets.Checkbox(value=False, description=item) for item in checklist_items]\n",
    "\n",
    "# Create a progress bar with a fixed width\n",
    "progress = widgets.FloatProgress(\n",
    "    value=0, min=0, max=len(checkboxes), description='Progress:', bar_style='info',\n",
    "    layout=widgets.Layout(width='70%')\n",
    ")\n",
    "\n",
    "# Create a label to display the percentage\n",
    "percentage_label = widgets.Label(value=\"0%\")\n",
    "\n",
    "# Function to update the progress bar and percentage label\n",
    "def update_progress(change):\n",
    "    checked_count = sum(checkbox.value for checkbox in checkboxes)\n",
    "    progress.value = checked_count\n",
    "    percentage = (checked_count / len(checkboxes)) * 100\n",
    "    percentage_label.value = f\"{percentage:.0f}%\"\n",
    "\n",
    "# Attach the update function to each checkbox\n",
    "for checkbox in checkboxes:\n",
    "    checkbox.observe(update_progress, names='value')\n",
    "\n",
    "# Organize checkboxes with larger indentation\n",
    "indented_checkboxes = [\n",
    "    checkboxes[0],  # Introduction\n",
    "    widgets.HBox([widgets.Box([checkboxes[1]], layout=widgets.Layout(margin='0 0 0 30px'))]),  # What is Microlensing?\n",
    "    widgets.HBox([widgets.Box([checkboxes[2]], layout=widgets.Layout(margin='0 0 0 30px'))]),  # What is it used for?\n",
    "    widgets.HBox([widgets.Box([checkboxes[3]], layout=widgets.Layout(margin='0 0 0 60px'))]),  # Exoplanets (indented)\n",
    "    widgets.HBox([widgets.Box([checkboxes[4]], layout=widgets.Layout(margin='0 0 0 60px'))]),  # Brown Dwarf (indented)\n",
    "    widgets.HBox([widgets.Box([checkboxes[5]], layout=widgets.Layout(margin='0 0 0 60px'))]),  # Black Holes and other Remnants (indented)\n",
    "    widgets.HBox([widgets.Box([checkboxes[6]], layout=widgets.Layout(margin='0 0 0 60px'))]),  # Dark Matter (indented)\n",
    "    checkboxes[7]   # Microlensing Eras\n",
    "]\n",
    "\n",
    "# Display progress bar with percentage label and checkboxes\n",
    "display(widgets.Box([progress, percentage_label], layout=widgets.Layout(position='relative')))\n",
    "display(widgets.VBox(indented_checkboxes))"
   ]
  },
  {
   "cell_type": "code",
   "execution_count": 7,
   "metadata": {},
   "outputs": [
    {
     "data": {
      "text/markdown": [
       "\n",
       "## Exercises"
      ],
      "text/plain": [
       "<IPython.core.display.Markdown object>"
      ]
     },
     "metadata": {},
     "output_type": "display_data"
    },
    {
     "data": {
      "application/vnd.jupyter.widget-view+json": {
       "model_id": "1e0b0d8361304714a0589c9913f3c283",
       "version_major": 2,
       "version_minor": 0
      },
      "text/plain": [
       "Box(children=(FloatProgress(value=0.0, bar_style='info', description='Progress:', layout=Layout(width='70%'), …"
      ]
     },
     "metadata": {},
     "output_type": "display_data"
    },
    {
     "data": {
      "application/vnd.jupyter.widget-view+json": {
       "model_id": "e2dc2dd805fc48c599524cc4e6d29fa3",
       "version_major": 2,
       "version_minor": 0
      },
      "text/plain": [
       "VBox(children=(Checkbox(value=False, description='Introduction'), HBox(children=(Box(children=(Checkbox(value=…"
      ]
     },
     "metadata": {},
     "output_type": "display_data"
    }
   ],
   "source": [
    "# Introduction text\n",
    "intro_text = \"\"\"\n",
    "## Exercises\"\"\"\n",
    "\n",
    "# Display introduction text\n",
    "display(Markdown(intro_text))\n",
    "\n",
    "# Create checklist items\n",
    "checklist_items = [\n",
    "    \"Introduction\",\n",
    "    \"What is microlensing?\",\n",
    "    \"What is it used for?\",\n",
    "    \"Exoplanets\",\n",
    "    \"Brown dwarf\",\n",
    "    \"Black holes and other remnants\",\n",
    "    \"Dark matter\",\n",
    "    \"Microlensing eras\"\n",
    "]\n",
    "\n",
    "# Create checkboxes for each item\n",
    "checkboxes = [widgets.Checkbox(value=False, description=item) for item in checklist_items]\n",
    "\n",
    "# Create a progress bar with a fixed width\n",
    "progress = widgets.FloatProgress(\n",
    "    value=0, min=0, max=len(checkboxes), description='Progress:', bar_style='info',\n",
    "    layout=widgets.Layout(width='70%')\n",
    ")\n",
    "\n",
    "# Create a label to display the percentage\n",
    "percentage_label = widgets.Label(value=\"0%\")\n",
    "\n",
    "# Function to update the progress bar and percentage label\n",
    "def update_progress(change):\n",
    "    checked_count = sum(checkbox.value for checkbox in checkboxes)\n",
    "    progress.value = checked_count\n",
    "    percentage = (checked_count / len(checkboxes)) * 100\n",
    "    percentage_label.value = f\"{percentage:.0f}%\"\n",
    "\n",
    "# Attach the update function to each checkbox\n",
    "for checkbox in checkboxes:\n",
    "    checkbox.observe(update_progress, names='value')\n",
    "\n",
    "# Organize checkboxes with larger indentation\n",
    "indented_checkboxes = [\n",
    "    checkboxes[0],  # Introduction\n",
    "    widgets.HBox([widgets.Box([checkboxes[1]], layout=widgets.Layout(margin='0 0 0 30px'))]),  # What is Microlensing?\n",
    "    widgets.HBox([widgets.Box([checkboxes[2]], layout=widgets.Layout(margin='0 0 0 30px'))]),  # What is it used for?\n",
    "    widgets.HBox([widgets.Box([checkboxes[3]], layout=widgets.Layout(margin='0 0 0 60px'))]),  # Exoplanets (indented)\n",
    "    widgets.HBox([widgets.Box([checkboxes[4]], layout=widgets.Layout(margin='0 0 0 60px'))]),  # Brown Dwarf (indented)\n",
    "    widgets.HBox([widgets.Box([checkboxes[5]], layout=widgets.Layout(margin='0 0 0 60px'))]),  # Black Holes and other Remnants (indented)\n",
    "    widgets.HBox([widgets.Box([checkboxes[6]], layout=widgets.Layout(margin='0 0 0 60px'))]),  # Dark Matter (indented)\n",
    "    checkboxes[7]   # Microlensing Eras\n",
    "]\n",
    "\n",
    "# Display progress bar with percentage label and checkboxes\n",
    "display(widgets.Box([progress, percentage_label], layout=widgets.Layout(position='relative')))\n",
    "display(widgets.VBox(indented_checkboxes))"
   ]
  }
 ],
 "metadata": {
  "kernelspec": {
   "display_name": "TheGuide",
   "language": "python",
   "name": "python3"
  },
  "language_info": {
   "codemirror_mode": {
    "name": "ipython",
    "version": 3
   },
   "file_extension": ".py",
   "mimetype": "text/x-python",
   "name": "python",
   "nbconvert_exporter": "python",
   "pygments_lexer": "ipython3",
   "version": "3.8.19"
  }
 },
 "nbformat": 4,
 "nbformat_minor": 4
}

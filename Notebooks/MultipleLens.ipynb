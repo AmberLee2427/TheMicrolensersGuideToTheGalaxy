{
 "cells": [
  {
   "cell_type": "markdown",
   "metadata": {},
   "source": [
    "*The recommended prerequisites for this notebook are the [Single Lens](SingleLens.ipynb) and [Binary Lens](BinaryLens.ipynb) notebooks.*"
   ]
  },
  {
   "cell_type": "code",
   "execution_count": null,
   "metadata": {},
   "outputs": [],
   "source": [
    "# package imports (SHIFT + ENTER to run)"
   ]
  },
  {
   "cell_type": "markdown",
   "metadata": {},
   "source": [
    "# All the lenses! (N-lens events) (in development)\n",
    "\n",
    "<style>\n",
    ".exercise {\n",
    "    background-color: #E0E0E0;\n",
    "    border-left: 8px solid #808080;\n",
    "    padding: 10px 0 10px 20px;  /* top, right, bottom, left */\n",
    "    margin: 20px 5px;  \n",
    "    box-sizing: border-box;  \n",
    "}\n",
    ".exercise h2 {\n",
    "    color: #808080;\n",
    "    font-size: 24px;\n",
    "}\n",
    ".exercise p {\n",
    "    margin: 0 20px;  /* Adjust this value to add space after the paragraph */\n",
    "}\n",
    "</style>\n",
    "\n",
    "<div class=\"exercise\">\n",
    "    <h2>Exercise x</h2>\n",
    "    <p>Instruction.</p>\n",
    "    <br>\n",
    "    <p><i>Note.</i></p>\n",
    "    <br>\n",
    "</div>\n",
    "\n",
    "> Footnote-like aside\n",
    "\n",
    "<h5> <ul> <i>\"Quotes.\" - Author</i> </ul> </h5>"
   ]
  },
  {
   "cell_type": "markdown",
   "metadata": {},
   "source": [
    "Beyond the 1L1S, 1L2S, and 2L1S models, the lens-source configurations can theoretically continue to incorporate more objects ad infinitum. In practice, microlensing events very rarely require this complexity in order to be well described by the model. If extra complexity (in the form of extra objects) is not necessary to describe the data, then the data do not conclusively support the existence of these objects. Unlike parallax and the finite-source effect, which theoretically exists for every event but are not always detectable, extra objects that are capable of creating a microlensing signal are not always present. It is for that reason that we should favour other higher-order effects over the inclusion of additional lensing or source objects, because it has not technically increased the complexity of the model system, just its precision. This argument employs Occam's razor; if an event has two possible explanations, the explanation that requires the fewest assumptions is usually correct. We prefer microlensing models with fewer objects because they require fewer assumptions.\n",
    "\n",
    "There are some events for which the increased complexity is well supported by the data. In 30 years of microlensing there have been 14 well constrained triple-lens events (see Table 7 of \\citealt{Kuang2023} and references therein, and \\citealt{Han2024}). However, this is by no means the norm, and each well-constrained triple lens is, thus far, still considered a rather extraordinary occurrence.\n",
    "\n",
    "Should one need to implement such a model, the regression problem for deblending source fluxes follows Equation~\\ref{linearmodel}, except that the $A_i$ terms are evaluated using a different microlensing model (with more lens bodies). Simply calculating the point-source magnification for such models requires solving an $(N_l^2+1)$-order, complex polynomial for image positions, which is onerous to repeatedly solve using numerical methods. \\cite{ICIRAS} presents an alternative method for determining N-lens magnification, with or without $\\rho$ in the model, which is detailed in \\S~\\ref{Method:ICIRAS}. \n",
    "\n",
    "Beyond short-cuts to interpreting the physical underpinnings of microlensing events, the collective experiences of the community also teach us about common degeneracies that indicate possibly viable arrangements, which may otherwise have been missed (see \\citealt{Tsapras2018} and references therein).\n",
    "\n",
    "incorrectly classified events (e.g., OGLE-2013-BLG-0723; \\citealt{Albrow2000, Jung2013_Albrow2000})"
   ]
  }
 ],
 "metadata": {
  "kernelspec": {
   "display_name": "TheGuide",
   "language": "python",
   "name": "python3"
  },
  "language_info": {
   "name": "python",
   "version": "3.8.19"
  }
 },
 "nbformat": 4,
 "nbformat_minor": 2
}

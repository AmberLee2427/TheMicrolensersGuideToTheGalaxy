{
 "cells": [
  {
   "cell_type": "markdown",
   "id": "872c4771-8234-48d6-8816-c7e7f06017bf",
   "metadata": {},
   "source": [
    "# In case you get an error with MulensModel and FSPL"
   ]
  },
  {
   "cell_type": "markdown",
   "id": "d2d83388-f13a-4e96-bdd1-60a5fface398",
   "metadata": {},
   "source": [
    "You might encounter this error when going through the Exercise 5 in the SingleLens notebook that loooks something like this around the end:"
   ]
  },
  {
   "cell_type": "markdown",
   "id": "dd4ee65a-bc7a-4025-b396-4754f515b1c9",
   "metadata": {},
   "source": [
    "| ![MulensModel error](./Assets/mm_fspl_error.png) |"
   ]
  },
  {
   "cell_type": "markdown",
   "id": "2a809537-30ec-4a1f-b14a-3992ef4fd968",
   "metadata": {},
   "source": [
    "If you do, you'll have to do some manual intervention using your amazing command-line skils. Don't worry, I'll try to walk you through it."
   ]
  },
  {
   "cell_type": "markdown",
   "id": "a81451c2-9b7d-498c-8fc6-096346eb8037",
   "metadata": {},
   "source": [
    "### Step 1. Find the path of MulensModel site package\n",
    "\n",
    "Check the path of your python environment's site-packages location. It will be directly displayed in the error. In the case above it's:\n",
    "```\n",
    "/home/katarzyna/Documents/mini_courses/.guide_venv/lib/python3.11/site-packages/MulensModel/data/interpolation_table_b0b1_v3.dat\n",
    "```\n",
    "\n",
    "In your case, anything before the `/site-packages/MulensModel/data/interpolation_table_b0b1_v3.dat` chunk should be different. This chunk says where your Python environment stores the packages it uses when you execute the code in these notebooks. \n",
    "\n",
    "Now, the path to your MulensModel site package will look something like this:\n",
    "```\n",
    "/home/your_user_name/some_directory/some_other_directory (...)/site-packages/MulensModel/\n",
    "```\n",
    "In the case of the error above it's:\n",
    "```\n",
    "/home/katarzyna/Documents/mini_courses/.guide_venv/lib/python3.11/site-packages/MulensModel/\n",
    "```\n",
    "We will be using that path in a moment."
   ]
  },
  {
   "cell_type": "markdown",
   "id": "15466249-55f8-4870-a4b3-48c3d73355fa",
   "metadata": {},
   "source": [
    "### Step 2. In a terminal window, move to the directory with MulensModel site-package\n",
    "\n",
    "Open a terminal window and in it move to the directory with MulensModel site package:\n",
    "```\n",
    "cd path_to_your_MulensModel_site_package\n",
    "```\n",
    "\n",
    "In the case of the error shown at the beginning of this notebook, it would be:\n",
    "```\n",
    "cd /home/katarzyna/Documents/mini_courses/.guide_venv/lib/python3.11/site-packages/MulensModel/\n",
    "```"
   ]
  },
  {
   "cell_type": "markdown",
   "id": "5560092b-e3fe-48c1-b7b2-61daf9566262",
   "metadata": {},
   "source": [
    "### Step 3. Delete the file called \"data\"\n",
    "\n",
    "In terminal window type:\n",
    "```\n",
    "rm data\n",
    "```\n",
    "\n",
    "This will remove a file called data. This file should be a directory instead, containing various tables. We will now proceed to fix this.\n",
    "\n",
    "You can now close the terminal window."
   ]
  },
  {
   "cell_type": "markdown",
   "id": "c6a6ab73-4b30-4434-bb38-27562c179038",
   "metadata": {},
   "source": [
    "### Step 4. Clone MulensModel\n",
    "\n",
    "Clone MulensModel repository from the github webpage([MulensModel repository](https://github.com/rpoleski/MulensModel)) to a directory where you want to store Python packages.\n",
    "\n",
    "In that directory, open a terminal window and copy the repository using the git clone command:\n",
    "\n",
    "```\n",
    "> git clone https://github.com/rpoleski/MulensModel.git\n",
    "```"
   ]
  },
  {
   "cell_type": "markdown",
   "id": "6825cad7-39c8-4eb7-8b93-dbe2df497085",
   "metadata": {},
   "source": [
    "### Step 5. Move to the cloned MulensModel repository\n",
    "\n",
    "Go into the directory with your freshly cloned MulensModel repository by typing in the terminal window:\n",
    "```\n",
    "mv MulensModel\n",
    "```"
   ]
  },
  {
   "cell_type": "markdown",
   "id": "b70bbb26-0034-4fa4-9223-1dc79c21818e",
   "metadata": {},
   "source": [
    "### Step 6. Copy the data directory to your MulensModel site-package\n",
    "\n",
    "In the terminal window type:\n",
    "```\n",
    "> cp -r data/ path_to_your_MulensModel_site_package/.\n",
    "```\n",
    "\n",
    "This will copy the `data` directory with all the necessary files to your MulensModel site package that the Python environment operating this Guide's notebooks uses.\n",
    "\n",
    "In case of the error above this command would look like this:\n",
    "\n",
    "```\n",
    "cp -r data/ /home/katarzyna/Documents/mini_courses/.guide_venv/lib/python3.11/site-packages/MulensModel/.\n",
    "```\n"
   ]
  },
  {
   "cell_type": "markdown",
   "id": "80c2ea71-65d1-4eac-9369-e038cea86beb",
   "metadata": {},
   "source": [
    "### Step 7. Now your SingleLens notebook shoudl work!\n",
    "\n",
    "Now try running the Excercise 5 in the SingleLens notebook again. It should work! If not, please let me know through the contact provided in the main page of the Guide repository."
   ]
  },
  {
   "cell_type": "code",
   "execution_count": null,
   "id": "2cf6e4c8-e916-47d5-b1ff-ec1850eee88a",
   "metadata": {},
   "outputs": [],
   "source": []
  }
 ],
 "metadata": {
  "kernelspec": {
   "display_name": "Python 3 (ipykernel)",
   "language": "python",
   "name": "python3"
  },
  "language_info": {
   "codemirror_mode": {
    "name": "ipython",
    "version": 3
   },
   "file_extension": ".py",
   "mimetype": "text/x-python",
   "name": "python",
   "nbconvert_exporter": "python",
   "pygments_lexer": "ipython3",
   "version": "3.11.11"
  }
 },
 "nbformat": 4,
 "nbformat_minor": 5
}

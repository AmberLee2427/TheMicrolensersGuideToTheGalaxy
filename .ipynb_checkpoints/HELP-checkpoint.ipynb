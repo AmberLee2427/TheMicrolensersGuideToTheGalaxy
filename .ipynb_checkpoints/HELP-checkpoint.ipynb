{
 "cells": [
  {
   "cell_type": "code",
   "execution_count": 1,
   "metadata": {},
   "outputs": [],
   "source": [
    "import sys\n",
    "import os\n",
    "sys.path.append('./Modules')\n",
    "from Guide import define, list_entries, list_notebooks, open_notebook"
   ]
  },
  {
   "cell_type": "markdown",
   "metadata": {},
   "source": [
    "# HELP!\n",
    "\n",
    "You can use this notebook to look up common microlensing terms, or find and open exercise notebooks. Let's start by printing the Guide entries."
   ]
  },
  {
   "cell_type": "code",
   "execution_count": null,
   "metadata": {},
   "outputs": [],
   "source": [
    "list_entries()"
   ]
  },
  {
   "cell_type": "markdown",
   "metadata": {},
   "source": [
    "You can define any of these terms at any time, in any notebook, as long as you have imported the define function from the Guide module. You may need to first add its location to your path, as in cell 1. You use the define function like this:"
   ]
  },
  {
   "cell_type": "code",
   "execution_count": 3,
   "metadata": {},
   "outputs": [
    {
     "name": "stdout",
     "output_type": "stream",
     "text": [
      "Microlensing Effect (n.)\n",
      "A delightful cosmic phenomenon that occurs when a massive object—such as a star or a black hole—happens to waddle in front of a more distant light source, like a galaxy or a twinkling star. Think of it as the universe’s way of showing off its magical party tricks, bending light like a pretzel through the force of gravity.\n",
      "\n",
      "How It Works:\n",
      "\n",
      "Imagine you’re on a leisurely interstellar cruise, sipping your Pan Galactic Gargle Blaster, when suddenly, a cosmic object with significant mass struts across your line of sight. The light from that distant source curves around the massive object, much like how a well-placed mirror can reflect your charming smile in every direction at once. This bending of light creates temporary magnification, allowing you to see objects you might otherwise miss—like that star that’s just a little too shy to shine on its own.\n",
      "\n",
      "Why It Matters:\n",
      "\n",
      "Microlensing is not just a nifty party trick; it’s a crucial tool for astronomers! It helps uncover the hidden treasures of the universe, such as exoplanets and dark matter, and allows scientists to study distant galaxies that would otherwise be lost to the cosmic background noise. In fact, it’s so useful that even the most aloof of stars can’t resist getting involved.\n",
      "\n",
      "Caution:\n",
      "\n",
      "While microlensing is a splendid cosmic spectacle, it’s essential to remember that not all cosmic events are worth hitchhiking across the galaxy for. Always consult your local space guide before embarking on any light-bending adventures, as some lenses may be more dangerous than they appear—especially if they happen to be black holes!\n",
      "\n",
      "In summary, the microlensing effect is the universe’s reminder that even in the vastness of space, things can sometimes align just right to give you a peek at the extraordinary. Just keep your towel handy, and you’ll be fine!\n"
     ]
    }
   ],
   "source": [
    "define('Microlensing')  # this is what happens when you let the AI write the entries :)"
   ]
  },
  {
   "cell_type": "markdown",
   "metadata": {},
   "source": [
    "If you would like to search for a notebook, you can use this function:"
   ]
  },
  {
   "cell_type": "code",
   "execution_count": null,
   "metadata": {},
   "outputs": [],
   "source": [
    "list_notebooks()"
   ]
  },
  {
   "cell_type": "markdown",
   "metadata": {},
   "source": [
    "Or use the list this return to narrow down your search:"
   ]
  },
  {
   "cell_type": "code",
   "execution_count": null,
   "metadata": {},
   "outputs": [],
   "source": [
    "notebooks = list_notebooks(print_list=False)\n",
    "for notebook in notebooks:\n",
    "    if 'lens' in notebook.lower():\n",
    "        print(notebook)"
   ]
  },
  {
   "cell_type": "code",
   "execution_count": null,
   "metadata": {},
   "outputs": [],
   "source": [
    "open_notebook('SingleLens')"
   ]
  },
  {
   "cell_type": "code",
   "execution_count": null,
   "metadata": {},
   "outputs": [],
   "source": []
  }
 ],
 "metadata": {
  "kernelspec": {
   "display_name": "TheGuide",
   "language": "python",
   "name": "python3"
  },
  "language_info": {
   "codemirror_mode": {
    "name": "ipython",
    "version": 3
   },
   "file_extension": ".py",
   "mimetype": "text/x-python",
   "name": "python",
   "nbconvert_exporter": "python",
   "pygments_lexer": "ipython3",
   "version": "3.8.19"
  }
 },
 "nbformat": 4,
 "nbformat_minor": 2
}
